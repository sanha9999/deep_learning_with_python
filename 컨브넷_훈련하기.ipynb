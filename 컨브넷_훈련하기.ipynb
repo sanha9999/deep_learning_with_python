{
  "nbformat": 4,
  "nbformat_minor": 0,
  "metadata": {
    "colab": {
      "name": "컨브넷 훈련하기.ipynb",
      "provenance": [],
      "authorship_tag": "ABX9TyMoHMyhP26DNIGurFFNzZ4f",
      "include_colab_link": true
    },
    "kernelspec": {
      "name": "python3",
      "display_name": "Python 3"
    }
  },
  "cells": [
    {
      "cell_type": "markdown",
      "metadata": {
        "id": "view-in-github",
        "colab_type": "text"
      },
      "source": [
        "<a href=\"https://colab.research.google.com/github/sanha9999/deep_learning_with_python/blob/main/%EC%BB%A8%EB%B8%8C%EB%84%B7_%ED%9B%88%EB%A0%A8%ED%95%98%EA%B8%B0.ipynb\" target=\"_parent\"><img src=\"https://colab.research.google.com/assets/colab-badge.svg\" alt=\"Open In Colab\"/></a>"
      ]
    },
    {
      "cell_type": "code",
      "metadata": {
        "id": "ogU5ewUq0k6N"
      },
      "source": [
        ""
      ],
      "execution_count": null,
      "outputs": []
    }
  ]
}