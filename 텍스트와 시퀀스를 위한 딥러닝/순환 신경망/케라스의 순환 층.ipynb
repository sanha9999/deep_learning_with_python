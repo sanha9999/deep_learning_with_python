{
 "cells": [
  {
   "cell_type": "code",
   "execution_count": 1,
   "metadata": {},
   "outputs": [],
   "source": [
    "# 넘파이로 간단하게 구햔한 과정이 실제 케라스의 SimpleRNN에 해당한다.\n",
    "from keras.layers import SimpleRNN"
   ]
  },
  {
   "cell_type": "markdown",
   "metadata": {},
   "source": [
    "> SimpleRNN이 한가지 다른점은 넘파이 예제처럼 하나의 시퀀스가 아니라 다른 케라스 층과 마찬가지로 시퀀스 배치를 처리한다는 점이다. 즉 (timesteps, input_features) 크기가 아니라 (batch_size, timesteps, input_features)크기의 입력을 받는다.\n",
    "> #### 케라스에 있는 모든 순환 층과 마찬가지로 SimpleRNN은 두가지 모드로 실행할 수 있다. 각 타임스탭의 출력을 모은 전체 시퀀스를 반환하거나, 입력시퀀스에 대한 마지막 출력만 반환할 수 있다.\n",
    "\n",
    "### 마지막 타임스텝의 출력만 얻는 예제"
   ]
  },
  {
   "cell_type": "code",
   "execution_count": 2,
   "metadata": {},
   "outputs": [
    {
     "name": "stdout",
     "output_type": "stream",
     "text": [
      "Model: \"sequential\"\n",
      "_________________________________________________________________\n",
      "Layer (type)                 Output Shape              Param #   \n",
      "=================================================================\n",
      "embedding (Embedding)        (None, None, 32)          320000    \n",
      "_________________________________________________________________\n",
      "simple_rnn (SimpleRNN)       (None, 32)                2080      \n",
      "=================================================================\n",
      "Total params: 322,080\n",
      "Trainable params: 322,080\n",
      "Non-trainable params: 0\n",
      "_________________________________________________________________\n"
     ]
    }
   ],
   "source": [
    "from keras.models import Sequential\n",
    "from keras.layers import Embedding\n",
    "model = Sequential()\n",
    "model.add(Embedding(10000, 32))\n",
    "model.add(SimpleRNN(32))\n",
    "model.summary()"
   ]
  },
  {
   "cell_type": "markdown",
   "metadata": {},
   "source": [
    "#### 전체 시퀀스를 반환하려면 SimpleRNN의 인자에 return_sequence값을 true로 해주면 된다.\n",
    "\n",
    "## IMDB 영화 리뷰 분류 문제에 적용해 보기\n",
    "\n",
    "### IMDB데이터 전처리"
   ]
  },
  {
   "cell_type": "code",
   "execution_count": 3,
   "metadata": {},
   "outputs": [
    {
     "name": "stdout",
     "output_type": "stream",
     "text": [
      "데이터 로딩...\n"
     ]
    },
    {
     "name": "stderr",
     "output_type": "stream",
     "text": [
      "<__array_function__ internals>:5: VisibleDeprecationWarning: Creating an ndarray from ragged nested sequences (which is a list-or-tuple of lists-or-tuples-or ndarrays with different lengths or shapes) is deprecated. If you meant to do this, you must specify 'dtype=object' when creating the ndarray\n",
      "C:\\Users\\user\\anaconda3\\lib\\site-packages\\tensorflow\\python\\keras\\datasets\\imdb.py:159: VisibleDeprecationWarning: Creating an ndarray from ragged nested sequences (which is a list-or-tuple of lists-or-tuples-or ndarrays with different lengths or shapes) is deprecated. If you meant to do this, you must specify 'dtype=object' when creating the ndarray\n",
      "  x_train, y_train = np.array(xs[:idx]), np.array(labels[:idx])\n",
      "C:\\Users\\user\\anaconda3\\lib\\site-packages\\tensorflow\\python\\keras\\datasets\\imdb.py:160: VisibleDeprecationWarning: Creating an ndarray from ragged nested sequences (which is a list-or-tuple of lists-or-tuples-or ndarrays with different lengths or shapes) is deprecated. If you meant to do this, you must specify 'dtype=object' when creating the ndarray\n",
      "  x_test, y_test = np.array(xs[idx:]), np.array(labels[idx:])\n"
     ]
    },
    {
     "name": "stdout",
     "output_type": "stream",
     "text": [
      "25000 훈련 시퀀스\n",
      "25000 테스트 시퀀스\n",
      "시퀀스 패딩 (samples X time)\n",
      "input_data의 크기: (25000, 500)\n",
      "input_test의 크기: (25000, 500)\n"
     ]
    }
   ],
   "source": [
    "from keras.datasets import imdb\n",
    "from keras.preprocessing import sequence\n",
    "\n",
    "max_features = 10000 # 특성으로 사용할 단어의 수\n",
    "maxlen = 500 # 사용할 텍스트의 길이(가장 빈번한 10000개의 단어만 사용)\n",
    "batch_size = 32\n",
    "\n",
    "print('데이터 로딩...')\n",
    "(input_train, y_train), (input_test, y_test) = imdb.load_data(\n",
    "num_words=max_features)\n",
    "print(len(input_train), '훈련 시퀀스')\n",
    "print(len(input_test), '테스트 시퀀스')\n",
    "\n",
    "print('시퀀스 패딩 (samples X time)')\n",
    "\n",
    "input_train = sequence.pad_sequences(input_train, maxlen=maxlen)\n",
    "input_test = sequence.pad_sequences(input_test, maxlen=maxlen)\n",
    "print('input_data의 크기:', input_train.shape)\n",
    "print('input_test의 크기:', input_test.shape)"
   ]
  },
  {
   "cell_type": "markdown",
   "metadata": {},
   "source": [
    "### Embedding 층과 SimpleRNN층을 사용하여 간단한 순환 네트워크 훈련시키기"
   ]
  },
  {
   "cell_type": "code",
   "execution_count": 4,
   "metadata": {},
   "outputs": [
    {
     "name": "stdout",
     "output_type": "stream",
     "text": [
      "Epoch 1/10\n",
      "157/157 [==============================] - 18s 106ms/step - loss: 0.6771 - acc: 0.5542 - val_loss: 0.4435 - val_acc: 0.8040\n",
      "Epoch 2/10\n",
      "157/157 [==============================] - 17s 108ms/step - loss: 0.4211 - acc: 0.8190 - val_loss: 0.3785 - val_acc: 0.8454\n",
      "Epoch 3/10\n",
      "157/157 [==============================] - 17s 110ms/step - loss: 0.3020 - acc: 0.8817 - val_loss: 0.3490 - val_acc: 0.8574\n",
      "Epoch 4/10\n",
      "157/157 [==============================] - 16s 104ms/step - loss: 0.2555 - acc: 0.8993 - val_loss: 0.4118 - val_acc: 0.8224\n",
      "Epoch 5/10\n",
      "157/157 [==============================] - 17s 105ms/step - loss: 0.2270 - acc: 0.9051 - val_loss: 0.3834 - val_acc: 0.8510\n",
      "Epoch 6/10\n",
      "157/157 [==============================] - 16s 104ms/step - loss: 0.1584 - acc: 0.9417 - val_loss: 0.4084 - val_acc: 0.8506\n",
      "Epoch 7/10\n",
      "157/157 [==============================] - 16s 104ms/step - loss: 0.1465 - acc: 0.9441 - val_loss: 0.4787 - val_acc: 0.8288\n",
      "Epoch 8/10\n",
      "157/157 [==============================] - 16s 103ms/step - loss: 0.0939 - acc: 0.9674 - val_loss: 0.4997 - val_acc: 0.8360\n",
      "Epoch 9/10\n",
      "157/157 [==============================] - 16s 104ms/step - loss: 0.0634 - acc: 0.9818 - val_loss: 0.5573 - val_acc: 0.8210\n",
      "Epoch 10/10\n",
      "157/157 [==============================] - 16s 105ms/step - loss: 0.0345 - acc: 0.9898 - val_loss: 0.7480 - val_acc: 0.7666\n"
     ]
    }
   ],
   "source": [
    "from keras.layers import Dense\n",
    "\n",
    "model = Sequential()\n",
    "model.add(Embedding(max_features, 32))\n",
    "model.add(SimpleRNN(32))\n",
    "model.add(Dense(1, activation='sigmoid'))\n",
    "\n",
    "model.compile(optimizer='rmsprop', loss='binary_crossentropy', metrics=['acc'])\n",
    "history = model.fit(input_train, y_train,\n",
    "                   epochs = 10,\n",
    "                   batch_size = 128,\n",
    "                   validation_split=0.2)"
   ]
  },
  {
   "cell_type": "markdown",
   "metadata": {},
   "source": [
    "### 결과 그래프 그리기"
   ]
  },
  {
   "cell_type": "code",
   "execution_count": 5,
   "metadata": {},
   "outputs": [
    {
     "data": {
      "image/png": "[encoded data removed]",
      "text/plain": [
       "<Figure size 432x288 with 1 Axes>"
      ]
     },
     "metadata": {
      "needs_background": "light"
     },
     "output_type": "display_data"
    },
    {
     "data": {
      "image/png": "[encoded data removed]",
      "text/plain": [
       "<Figure size 432x288 with 1 Axes>"
      ]
     },
     "metadata": {
      "needs_background": "light"
     },
     "output_type": "display_data"
    }
   ],
   "source": [
    "import matplotlib.pyplot as plt\n",
    "\n",
    "acc = history.history['acc']\n",
    "val_acc = history.history['val_acc']\n",
    "loss = history.history['loss']\n",
    "val_loss = history.history['val_loss']\n",
    "\n",
    "epochs = range(1, len(acc) + 1)\n",
    "\n",
    "plt.plot(epochs, acc, 'bo', label='Training acc')\n",
    "plt.plot(epochs, val_acc, 'b', label='Validation acc')\n",
    "plt.title('Training and Validaion accuracy')\n",
    "plt.legend()\n",
    "\n",
    "plt.figure()\n",
    "\n",
    "plt.plot(epochs, loss, 'ro', label='Training loss')\n",
    "plt.plot(epochs, val_loss, 'r', label='Validation loss')\n",
    "plt.title('Training and Validaion loss')\n",
    "plt.legend()\n",
    "\n",
    "plt.show()"
   ]
  },
  {
   "cell_type": "markdown",
   "metadata": {},
   "source": [
    "> 이 모델이 성능이 높지 않은 이유는 500개의 단어만 사용했기 때문이여.."
   ]
  },
  {
   "cell_type": "markdown",
   "metadata": {},
   "source": [
    "## 케라스를 활용한 LSTM예제\n",
    "> 솔직히 어려운 것이 너무 많아 설명하기 어렵다. LSTM은 셀의 역할만 기억하면 된다. 과거 정보를 나중에 다시 주입하여 그래디언트 소실 문제를 해결하는 것이다.\n",
    "\n",
    "### 케라스에서 LSTM층 사용하기"
   ]
  },
  {
   "cell_type": "code",
   "execution_count": 7,
   "metadata": {},
   "outputs": [
    {
     "name": "stdout",
     "output_type": "stream",
     "text": [
      "Epoch 1/10\n",
      "157/157 [==============================] - 38s 227ms/step - loss: 0.5981 - acc: 0.6735 - val_loss: 0.3497 - val_acc: 0.8576\n",
      "Epoch 2/10\n",
      "157/157 [==============================] - 37s 239ms/step - loss: 0.2948 - acc: 0.8872 - val_loss: 0.2901 - val_acc: 0.8828\n",
      "Epoch 3/10\n",
      "157/157 [==============================] - 38s 242ms/step - loss: 0.2255 - acc: 0.9120 - val_loss: 0.2958 - val_acc: 0.8906\n",
      "Epoch 4/10\n",
      "157/157 [==============================] - 38s 240ms/step - loss: 0.1941 - acc: 0.9293 - val_loss: 0.3695 - val_acc: 0.8474\n",
      "Epoch 5/10\n",
      "157/157 [==============================] - 38s 243ms/step - loss: 0.1693 - acc: 0.9401 - val_loss: 0.3976 - val_acc: 0.8736\n",
      "Epoch 6/10\n",
      "157/157 [==============================] - 40s 253ms/step - loss: 0.1577 - acc: 0.9471 - val_loss: 0.4519 - val_acc: 0.8654\n",
      "Epoch 7/10\n",
      "157/157 [==============================] - 40s 253ms/step - loss: 0.1420 - acc: 0.9514 - val_loss: 0.3403 - val_acc: 0.8858\n",
      "Epoch 8/10\n",
      "157/157 [==============================] - 39s 246ms/step - loss: 0.1231 - acc: 0.9572 - val_loss: 0.3991 - val_acc: 0.8752\n",
      "Epoch 9/10\n",
      "157/157 [==============================] - 38s 244ms/step - loss: 0.1076 - acc: 0.9622 - val_loss: 0.5270 - val_acc: 0.8450\n",
      "Epoch 10/10\n",
      "157/157 [==============================] - 38s 244ms/step - loss: 0.1085 - acc: 0.9637 - val_loss: 0.4028 - val_acc: 0.8690\n"
     ]
    }
   ],
   "source": [
    "from keras.layers import LSTM\n",
    "\n",
    "model = Sequential()\n",
    "model.add(Embedding(max_features, 32))\n",
    "model.add(LSTM(32))\n",
    "model.add(Dense(1, activation='sigmoid'))\n",
    "\n",
    "model.compile(optimizer = 'rmsprop',\n",
    "             loss='binary_crossentropy',\n",
    "             metrics=['acc'])\n",
    "\n",
    "history = model.fit(input_train, y_train,\n",
    "                   epochs=10,\n",
    "                   batch_size=128,\n",
    "                   validation_split=0.2)"
   ]
  },
  {
   "cell_type": "code",
   "execution_count": 8,
   "metadata": {},
   "outputs": [
    {
     "data": {
      "image/png": "[encoded data removed]",
      "text/plain": [
       "<Figure size 432x288 with 1 Axes>"
      ]
     },
     "metadata": {
      "needs_background": "light"
     },
     "output_type": "display_data"
    },
    {
     "data": {
      "image/png": "[encoded data removed]",
      "text/plain": [
       "<Figure size 432x288 with 1 Axes>"
      ]
     },
     "metadata": {
      "needs_background": "light"
     },
     "output_type": "display_data"
    }
   ],
   "source": [
    "acc = history.history['acc']\n",
    "val_acc = history.history['val_acc']\n",
    "loss = history.history['loss']\n",
    "val_loss = history.history['val_loss']\n",
    "\n",
    "epochs = range(1, len(acc) + 1)\n",
    "\n",
    "plt.plot(epochs, acc, 'bo', label='Training acc')\n",
    "plt.plot(epochs, val_acc, 'b', label='Validation acc')\n",
    "plt.title('Training and Validaion accuracy')\n",
    "plt.legend()\n",
    "\n",
    "plt.figure()\n",
    "\n",
    "plt.plot(epochs, loss, 'ro', label='Training loss')\n",
    "plt.plot(epochs, val_loss, 'r', label='Validation loss')\n",
    "plt.title('Training and Validaion loss')\n",
    "plt.legend()\n",
    "\n",
    "plt.show()"
   ]
  },
  {
   "cell_type": "markdown",
   "metadata": {},
   "source": [
    "### 역시 그래디언트 소실 문제로부터 영향을 덜 받기 때문에 정확도가 더 올랐다는 사실이다!!! 근데 획기적인 결과는 아니라네. 임베딩 차원이나 LSTM출력 차원 같은 하이퍼 파라미터를 튜닝하지 않아서이고, 규제가 없기 때문이다. 하지만 훨씬 더 복잡한 자연어 처리 부분에서는 진가가 들어난다!! 예를 들어 질문-응답이라던지, 기계 번역이라던지 말이다."
   ]
  }
 ],
 "metadata": {
  "kernelspec": {
   "display_name": "Python 3",
   "language": "python",
   "name": "python3"
  },
  "language_info": {
   "codemirror_mode": {
    "name": "ipython",
    "version": 3
   },
   "file_extension": ".py",
   "mimetype": "text/x-python",
   "name": "python",
   "nbconvert_exporter": "python",
   "pygments_lexer": "ipython3",
   "version": "3.8.5"
  }
 },
 "nbformat": 4,
 "nbformat_minor": 4
}
