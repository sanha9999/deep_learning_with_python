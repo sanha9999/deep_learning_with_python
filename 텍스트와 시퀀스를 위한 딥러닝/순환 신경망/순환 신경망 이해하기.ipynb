{
 "cells": [
  {
   "cell_type": "markdown",
   "metadata": {},
   "source": [
    "### 루프에 대한 개념 이해\n",
    "#### RNN 정방향 계산\n",
    "> 이 RNN은 크기가 (timesteps, input_features)인 2D 텐서로 인코딩된 벡터의 시퀀스를 입력 받는다. 이 시퀀스는 타임스템을 따라 반복된다. 각 타임스텝 t에서 현재상태와 ((input_features, 크기의) 입력을 연결하여 출력을 계산한다. 그다음 이 출력을 다음스텝의 상태로 설정한다. 첫 번째 타임스텝에서는 이전 출력이 정의되지 않으므로 현재 상태가 없다. 이때는 네트워크의 **초기 상태**인 0 벡터로 상태를 초기화한다.\n",
    "\n",
    "### 의사코드로 표현한 RNN"
   ]
  },
  {
   "cell_type": "code",
   "execution_count": null,
   "metadata": {},
   "outputs": [],
   "source": [
    "state_t = 0 # 타임스텝 t의 상태\n",
    "for input_t in input_sequence: # 시퀀스의 원소 반복\n",
    "    output_t = f(input_t, state_t)\n",
    "    state_t = output_t # 출력은 다음 반복을 위한 상태가 된다."
   ]
  }
 ],
 "metadata": {
  "kernelspec": {
   "display_name": "Python 3",
   "language": "python",
   "name": "python3"
  },
  "language_info": {
   "codemirror_mode": {
    "name": "ipython",
    "version": 3
   },
   "file_extension": ".py",
   "mimetype": "text/x-python",
   "name": "python",
   "nbconvert_exporter": "python",
   "pygments_lexer": "ipython3",
   "version": "3.8.5"
  }
 },
 "nbformat": 4,
 "nbformat_minor": 4
}
