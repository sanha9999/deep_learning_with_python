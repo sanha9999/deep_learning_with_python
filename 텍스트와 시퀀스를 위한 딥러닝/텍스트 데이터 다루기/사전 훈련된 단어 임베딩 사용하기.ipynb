{
 "cells": [
  {
   "cell_type": "markdown",
   "metadata": {},
   "source": [
    "#### 케라스에 포함된 IMDB 데이터는 미리 토큰화가 되어있기 때문에 원본 텍스트 데이터 부터 시작!!\n",
    "\n",
    "### 원본 텍스트 데이터 내려받기\n",
    "> http://mng.bz/0tIo 에서 원본 데이터셋을 내려받고 압축을 해제한다.\n",
    "\n",
    "### IMDB 원본 데이터 전처리하기"
   ]
  },
  {
   "cell_type": "code",
   "execution_count": 9,
   "metadata": {},
   "outputs": [],
   "source": [
    "import os\n",
    "\n",
    "imbd_dir = './datasets/aclImdb'\n",
    "train_dir = os.path.join(imbd_dir, 'test')\n",
    "\n",
    "labels = []\n",
    "\n",
    "texts = []\n",
    "\n",
    "for label_type in ['neg', 'pos']:\n",
    "    dir_name = os.path.join(train_dir, label_type)\n",
    "    for fname in os.listdir(dir_name):\n",
    "        if fname[-4:] == '.txt':\n",
    "            f = open(os.path.join(dir_name, fname), encoding='utf8')\n",
    "            texts.append(f.read())\n",
    "            f.close()\n",
    "            if label_type == 'neg':\n",
    "                labels.append(0)\n",
    "            else:\n",
    "                labels.append(1)\n",
    "                \n",
    "                \n",
    "### 약간 책에서 나온거와는 틀리게 train을 하면 오류가 나길래 test로 바꿨더니 됬다. 된건가?ㅋㅋㅋ"
   ]
  },
  {
   "cell_type": "markdown",
   "metadata": {},
   "source": [
    "### 데이터 토큰화\n",
    "> 텍스트를 벡터로 만들고 훈련 세트와 검증 세트로 나눈다. 사전 훈련된 단어 임베딩은 훈련 데이터가 부족한 문제에 특히 유용하다. 그래서 다음과 같이 훈련 데이터를 처음 200개의 샘플로 제한한다. 이 모델은 200개의 샘플을 학습한 후 영화 리뷰를 분류할 것이다.\n",
    "\n",
    "### IMDB 원본 데이터의 텍스트를 토큰화하기"
   ]
  },
  {
   "cell_type": "code",
   "execution_count": 10,
   "metadata": {},
   "outputs": [
    {
     "name": "stdout",
     "output_type": "stream",
     "text": [
      "72633개의 고유한 토큰을 찾았습니다.\n"
     ]
    }
   ],
   "source": [
    "from keras.preprocessing.text import Tokenizer\n",
    "from keras.preprocessing.sequence import pad_sequences\n",
    "import numpy as np\n",
    "\n",
    "maxlen = 100 # 100개 단어 이후는 버린다.\n",
    "trainig_samples = 200 # 훈련 샘플은 200개이다.\n",
    "validation_samples = 10000 # 검증 샘플은 1만개이다.\n",
    "max_words = 10000 # 데이터셋에서 가장 빈도 높은 1만개의 단어만 사용한다.\n",
    "\n",
    "tokenizer = Tokenizer(num_words=max_words)\n",
    "tokenizer.fit_on_texts(texts)\n",
    "sequence = tokenizer.texts_to_sequences(texts)\n",
    "\n",
    "word_index = tokenizer.word_index\n",
    "print(\"%s개의 고유한 토큰을 찾았습니다.\" % len(word_index))"
   ]
  },
  {
   "cell_type": "code",
   "execution_count": 18,
   "metadata": {},
   "outputs": [
    {
     "name": "stdout",
     "output_type": "stream",
     "text": [
      "데이터 텐서의 크기: (17243, 100)\n",
      "레이블 텐서의 크기: (17243,)\n"
     ]
    }
   ],
   "source": [
    "data = pad_sequences(sequence, maxlen=maxlen)\n",
    "\n",
    "labels = np.asarray(labels)\n",
    "print('데이터 텐서의 크기:', data.shape)\n",
    "print('레이블 텐서의 크기:', labels.shape)\n",
    "\n",
    "indice = np.arange(data.shape[0]) # 데이터를 훈련세트와 검증세트로 분할 한다. 샘플이 순서대로 있기 떄문에 먼저 데이터를 섞는다.\n",
    "np.random.shuffle(indice)\n",
    "data = data[indice]\n",
    "labels = labels[indice]\n",
    "\n",
    "x_train = data[:trainig_samples]\n",
    "y_train = labels[:trainig_samples]\n",
    "x_val = data[trainig_samples: trainig_samples+validation_samples]\n",
    "y_val = labels[trainig_samples: trainig_samples+validation_samples]"
   ]
  },
  {
   "cell_type": "markdown",
   "metadata": {},
   "source": [
    "### GloVe 단어 임베딩 내려 받기\n",
    "> https://nlp.stanford.edu/projects/glove 에서 영문 위키피디아를 사용하여 사전에 계산된 임베딩을 내려 받는다. 파일의 이름은 glove.6B.zip이다. 40만개의 단어에 대한 100차원의 임베딩 벡터를 포함하고 있다.\n",
    "\n",
    "### 임베딩 전처리\n",
    "> 압축해제한 파일을 파싱하여 단어와 이에 상응하는 벡터 표현을 매핑하는 인덱스를 만든다.\n",
    "\n",
    "### GloVe 단어 임베딩 파일 파싱하기"
   ]
  },
  {
   "cell_type": "code",
   "execution_count": 19,
   "metadata": {},
   "outputs": [
    {
     "name": "stdout",
     "output_type": "stream",
     "text": [
      "400000개의 단어 벡터를 찾았습니다.\n"
     ]
    }
   ],
   "source": [
    "glove_dir = './datasets/'\n",
    "\n",
    "embedding_index = {}\n",
    "f = open(os.path.join(glove_dir, 'glove.6B.100d.txt'), encoding=\"utf8\")\n",
    "for line in f:\n",
    "    values = line.split()\n",
    "    word = values[0]\n",
    "    coefs = np.asarray(values[1:], dtype='float32')\n",
    "    embedding_index[word] = coefs\n",
    "f.close()\n",
    "\n",
    "print('%s개의 단어 벡터를 찾았습니다.' % len(embedding_index))"
   ]
  },
  {
   "cell_type": "markdown",
   "metadata": {},
   "source": [
    "> 그 다음 Embedding 층에 주입할 수 있도록 임베딩 행렬을 만든다. 이 행렬의 크기는 (max_words, embedding_dim)이어야 한다.\n",
    " 이 행렬의 i번째 원소는 토큰화로 만든 단어 인덱스의 i번째 단어에 상응하는 embedding_index 차원 벡터이다. 인덱스 0은 어떤 단어나 토큰도 아닌 경우이다.\n",
    " \n",
    " ### GloVe 단어 임베딩 행렬 준비하기"
   ]
  },
  {
   "cell_type": "code",
   "execution_count": 20,
   "metadata": {},
   "outputs": [],
   "source": [
    "embedding_dim = 100\n",
    "\n",
    "embedding_matrix = np.zeros((max_words, embedding_dim))\n",
    "for word, i in word_index.items():\n",
    "    if i < max_words:\n",
    "        embedding_vector = embedding_index.get(word)\n",
    "        if embedding_vector is not None:\n",
    "            embedding_matrix[i] = embedding_vector # 임베딩 인덱스에 없는 단어는 모두 0이 된다."
   ]
  },
  {
   "cell_type": "markdown",
   "metadata": {},
   "source": [
    "### 모델 정의하기"
   ]
  },
  {
   "cell_type": "code",
   "execution_count": 21,
   "metadata": {},
   "outputs": [
    {
     "name": "stdout",
     "output_type": "stream",
     "text": [
      "Model: \"sequential_1\"\n",
      "_________________________________________________________________\n",
      "Layer (type)                 Output Shape              Param #   \n",
      "=================================================================\n",
      "embedding_1 (Embedding)      (None, 100, 100)          1000000   \n",
      "_________________________________________________________________\n",
      "flatten_1 (Flatten)          (None, 10000)             0         \n",
      "_________________________________________________________________\n",
      "dense_2 (Dense)              (None, 32)                320032    \n",
      "_________________________________________________________________\n",
      "dense_3 (Dense)              (None, 1)                 33        \n",
      "=================================================================\n",
      "Total params: 1,320,065\n",
      "Trainable params: 1,320,065\n",
      "Non-trainable params: 0\n",
      "_________________________________________________________________\n"
     ]
    }
   ],
   "source": [
    "from keras.models import Sequential\n",
    "from keras.layers import Embedding, Flatten, Dense\n",
    "\n",
    "model = Sequential()\n",
    "model.add(Embedding(max_words, embedding_dim, input_length=maxlen))\n",
    "model.add(Flatten())\n",
    "model.add(Dense(32, activation='relu'))\n",
    "model.add(Dense(1, activation='sigmoid'))\n",
    "model.summary()"
   ]
  },
  {
   "cell_type": "markdown",
   "metadata": {},
   "source": [
    "### 모델에 GloVe 임베딩 로드하기\n",
    "> Embedding 층은 하나의 가중치 행렬을 가진다. 이 행렬은 2D 부동 소수 행렬이고 각 i번째 원소는 i번째 인덱스에 상응하는 단어 벡터이다. 모델의 첫번째 층인 emvedding 층에 행렬을 로드한다.\n",
    "\n",
    "### 사전 훈련된 임베딩을 Embedding 층에 로드하기"
   ]
  },
  {
   "cell_type": "code",
   "execution_count": 22,
   "metadata": {},
   "outputs": [],
   "source": [
    "model.layers[0].set_weights([embedding_matrix])\n",
    "model.layers[0].trainable = False"
   ]
  },
  {
   "cell_type": "markdown",
   "metadata": {},
   "source": [
    "> 추가적으로 Embedding 층을 동결한다(trainable속성을 false로). 사전 훈련된 컨브넷 특성을 사용할 때와 같은 이유인데, 훈련하는 동안 사전 훈련된 부분이 업데이트 되면 안되기 때문이다.\n",
    "\n",
    "### 모델 훈련과 평가"
   ]
  },
  {
   "cell_type": "code",
   "execution_count": 23,
   "metadata": {},
   "outputs": [
    {
     "name": "stdout",
     "output_type": "stream",
     "text": [
      "Epoch 1/10\n",
      "7/7 [==============================] - 1s 124ms/step - loss: 1.6106 - acc: 0.7193 - val_loss: 0.6800 - val_acc: 0.7245\n",
      "Epoch 2/10\n",
      "7/7 [==============================] - 0s 77ms/step - loss: 0.4554 - acc: 0.7682 - val_loss: 0.6002 - val_acc: 0.7245\n",
      "Epoch 3/10\n",
      "7/7 [==============================] - 1s 86ms/step - loss: 0.3589 - acc: 0.7980 - val_loss: 0.7425 - val_acc: 0.7245\n",
      "Epoch 4/10\n",
      "7/7 [==============================] - 0s 82ms/step - loss: 0.3282 - acc: 0.7536 - val_loss: 1.1500 - val_acc: 0.7245\n",
      "Epoch 5/10\n",
      "7/7 [==============================] - 1s 83ms/step - loss: 0.3368 - acc: 0.8265 - val_loss: 1.0020 - val_acc: 0.7245\n",
      "Epoch 6/10\n",
      "7/7 [==============================] - 0s 78ms/step - loss: 0.1987 - acc: 0.8439 - val_loss: 0.6305 - val_acc: 0.7241\n",
      "Epoch 7/10\n",
      "7/7 [==============================] - 1s 92ms/step - loss: 0.1976 - acc: 0.8995 - val_loss: 0.9817 - val_acc: 0.7245\n",
      "Epoch 8/10\n",
      "7/7 [==============================] - 0s 78ms/step - loss: 0.1653 - acc: 0.8662 - val_loss: 0.7743 - val_acc: 0.7245\n",
      "Epoch 9/10\n",
      "7/7 [==============================] - 1s 98ms/step - loss: 0.1825 - acc: 0.8993 - val_loss: 1.0617 - val_acc: 0.7245\n",
      "Epoch 10/10\n",
      "7/7 [==============================] - 1s 83ms/step - loss: 0.1783 - acc: 0.8896 - val_loss: 1.1596 - val_acc: 0.7245\n"
     ]
    }
   ],
   "source": [
    "model.compile(optimizer='rmsprop',\n",
    "             loss='binary_crossentropy',\n",
    "             metrics=['acc'])\n",
    "history = model.fit(x_train, y_train,\n",
    "                   epochs=10,\n",
    "                   batch_size=32,\n",
    "                   validation_data=(x_val, y_val))\n",
    "model.save_weights('pre_trained_glove_model.h5')"
   ]
  },
  {
   "cell_type": "markdown",
   "metadata": {},
   "source": [
    "### 결과 그래프 그리기"
   ]
  },
  {
   "cell_type": "code",
   "execution_count": 25,
   "metadata": {},
   "outputs": [
    {
     "data": {
      "image/png": "[encoded data removed]",
      "text/plain": [
       "<Figure size 432x288 with 1 Axes>"
      ]
     },
     "metadata": {
      "needs_background": "light"
     },
     "output_type": "display_data"
    },
    {
     "data": {
      "image/png": "[encoded data removed]",
      "text/plain": [
       "<Figure size 432x288 with 1 Axes>"
      ]
     },
     "metadata": {
      "needs_background": "light"
     },
     "output_type": "display_data"
    }
   ],
   "source": [
    "import matplotlib.pyplot as plt\n",
    "\n",
    "acc = history.history['acc']\n",
    "val_acc = history.history['val_acc']\n",
    "loss = history.history['loss']\n",
    "val_loss = history.history['val_loss']\n",
    "\n",
    "epochs = range(1, len(acc) + 1)\n",
    "\n",
    "plt.plot(epochs, acc, 'bo', label='Training acc')\n",
    "plt.plot(epochs, val_acc, 'b', label='Validation acc')\n",
    "plt.title('Traning and Validation accuracy')\n",
    "plt.legend()\n",
    "\n",
    "plt.figure()\n",
    "\n",
    "plt.plot(epochs, loss, 'ro', label='Training loss')\n",
    "plt.plot(epochs, val_loss, 'r', label='Validation loss')\n",
    "plt.title('Training and Validation loss')\n",
    "plt.legend()\n",
    "\n",
    "plt.show()"
   ]
  },
  {
   "cell_type": "markdown",
   "metadata": {},
   "source": [
    "약간 선넘었다고 생각한다.... val_acc가 ㅋㅋㅋㅋㅋㅋㅋㅋ저게 뭐냐?ㅋㅋㅋㅋㅋㅋㅋ 훈련 샘플이 적어서 그런걸까....정말 눈물이난다.\n",
    "\n",
    "#### 해당 작업에 특화된 임데잉을 사용해 보자!!\n",
    "\n",
    "### 사전 훈련된 단어 임베딩말고 같은 모델 훈련하기!!!"
   ]
  },
  {
   "cell_type": "code",
   "execution_count": 26,
   "metadata": {},
   "outputs": [
    {
     "name": "stdout",
     "output_type": "stream",
     "text": [
      "Model: \"sequential_2\"\n",
      "_________________________________________________________________\n",
      "Layer (type)                 Output Shape              Param #   \n",
      "=================================================================\n",
      "embedding_2 (Embedding)      (None, 100, 100)          1000000   \n",
      "_________________________________________________________________\n",
      "flatten_2 (Flatten)          (None, 10000)             0         \n",
      "_________________________________________________________________\n",
      "dense_4 (Dense)              (None, 32)                320032    \n",
      "_________________________________________________________________\n",
      "dense_5 (Dense)              (None, 1)                 33        \n",
      "=================================================================\n",
      "Total params: 1,320,065\n",
      "Trainable params: 1,320,065\n",
      "Non-trainable params: 0\n",
      "_________________________________________________________________\n"
     ]
    }
   ],
   "source": [
    "model = Sequential()\n",
    "model.add(Embedding(max_words, embedding_dim, input_length=maxlen))\n",
    "model.add(Flatten())\n",
    "model.add(Dense(32, activation='relu'))\n",
    "model.add(Dense(1, activation='sigmoid'))\n",
    "model.summary()"
   ]
  },
  {
   "cell_type": "code",
   "execution_count": 27,
   "metadata": {},
   "outputs": [
    {
     "name": "stdout",
     "output_type": "stream",
     "text": [
      "Epoch 1/10\n",
      "7/7 [==============================] - 1s 118ms/step - loss: 0.6646 - acc: 0.6142 - val_loss: 0.6110 - val_acc: 0.7245\n",
      "Epoch 2/10\n",
      "7/7 [==============================] - 1s 98ms/step - loss: 0.3921 - acc: 0.8656 - val_loss: 0.5985 - val_acc: 0.7245\n",
      "Epoch 3/10\n",
      "7/7 [==============================] - 1s 93ms/step - loss: 0.2275 - acc: 0.9835 - val_loss: 0.5982 - val_acc: 0.7246\n",
      "Epoch 4/10\n",
      "7/7 [==============================] - 1s 111ms/step - loss: 0.1103 - acc: 0.9881 - val_loss: 0.6241 - val_acc: 0.7245\n",
      "Epoch 5/10\n",
      "7/7 [==============================] - 1s 107ms/step - loss: 0.0503 - acc: 1.0000 - val_loss: 0.6351 - val_acc: 0.7246\n",
      "Epoch 6/10\n",
      "7/7 [==============================] - 1s 101ms/step - loss: 0.0275 - acc: 1.0000 - val_loss: 0.7175 - val_acc: 0.7245\n",
      "Epoch 7/10\n",
      "7/7 [==============================] - 1s 119ms/step - loss: 0.0147 - acc: 1.0000 - val_loss: 0.6930 - val_acc: 0.7246\n",
      "Epoch 8/10\n",
      "7/7 [==============================] - 1s 85ms/step - loss: 0.0079 - acc: 1.0000 - val_loss: 0.7070 - val_acc: 0.7245\n",
      "Epoch 9/10\n",
      "7/7 [==============================] - 1s 99ms/step - loss: 0.0049 - acc: 1.0000 - val_loss: 0.7846 - val_acc: 0.7245\n",
      "Epoch 10/10\n",
      "7/7 [==============================] - 1s 96ms/step - loss: 0.0031 - acc: 1.0000 - val_loss: 0.7893 - val_acc: 0.7246\n"
     ]
    }
   ],
   "source": [
    "model.compile(optimizer='rmsprop',\n",
    "             loss='binary_crossentropy',\n",
    "             metrics=['acc'])\n",
    "history = model.fit(x_train, y_train,\n",
    "                   epochs=10,\n",
    "                   batch_size=32,\n",
    "                   validation_data=(x_val, y_val))\n"
   ]
  },
  {
   "cell_type": "markdown",
   "metadata": {},
   "source": [
    "#### 그게 그거인것같은데....\n",
    "\n",
    "적은 훈련샘플이라서 그렇다고 치자!!"
   ]
  }
 ],
 "metadata": {
  "kernelspec": {
   "display_name": "Python 3",
   "language": "python",
   "name": "python3"
  },
  "language_info": {
   "codemirror_mode": {
    "name": "ipython",
    "version": 3
   },
   "file_extension": ".py",
   "mimetype": "text/x-python",
   "name": "python",
   "nbconvert_exporter": "python",
   "pygments_lexer": "ipython3",
   "version": "3.8.5"
  }
 },
 "nbformat": 4,
 "nbformat_minor": 4
}
