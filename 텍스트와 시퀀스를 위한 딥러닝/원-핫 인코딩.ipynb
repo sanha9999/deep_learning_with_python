{
 "cells": [
  {
   "cell_type": "markdown",
   "metadata": {},
   "source": [
    "# 단어와 문자의 원-핫 인코딩\n",
    "> 원-핫 인코딩은 토큰을 벡터로 변환하는 가장 일반적이고 기본적인 방법이다. 모든 단어에 고유한 정수 인덱스를 부여하고 이 정수 인덱스 i를 크기가 N(어휘사전의 크기)인 이진 벡터로 변환한다. 이 벡터는 i번째 원소만 1이고 나머지는 0이다.\n",
    "### 단어 수준의 원-핫 인코딩하기(간단한 예시)"
   ]
  },
  {
   "cell_type": "code",
   "execution_count": 2,
   "metadata": {},
   "outputs": [],
   "source": [
    "import numpy as np\n",
    "\n",
    "samples = ['The cat sat on the mat.', 'The dog ate my homework.']\n",
    "# 초기 데이터 : 각 원소가 샘플이다.\n",
    "token_index = {} # 데이터에 있는 모든 토큰의 인덱스를 구축한다.\n",
    "for sample in samples:\n",
    "    for word in sample.split():\n",
    "        # split()메서드를 사용하여 샘플을 토큰으로 나눈다.\n",
    "        if word not in token_index:\n",
    "            token_index[word] = len(token_index) + 1\n",
    "            # 단어마다 고유한 인덱스를 할당한다. 인덱스 0은 사용하지 않는다.\n",
    "\n",
    "max_length = 10 # 샘플을 벡터로 변환한다. 각 샘플에서 max_length까지의 단어만 사용한다.\n",
    "\n",
    "results = np.zeros(shape=(len(samples),\n",
    "                         max_length,\n",
    "                         max(token_index.values())+ 1)) # 결과를 저장할 배열이다.\n",
    "for i, sample in enumerate(samples):\n",
    "    for j, word in list(enumerate(sample.split()))[:max_length]:\n",
    "        index = token_index.get(word)\n",
    "        results[i, j, index] = 1."
   ]
  },
  {
   "cell_type": "markdown",
   "metadata": {},
   "source": [
    "### 문자 수준 원-핫 인코딩하기(간단한 예시)"
   ]
  },
  {
   "cell_type": "code",
   "execution_count": 3,
   "metadata": {},
   "outputs": [],
   "source": [
    "import string\n",
    "\n",
    "samples = ['The cat sat on the mat.', 'The dog ate my homwork.']\n",
    "characters = string.printable # 출력 가능한 모든 아스키문자\n",
    "token_index = dict(zip(characters, range(1, len(characters)+1)))\n",
    "\n",
    "max_length = 50\n",
    "results = np.zeros((len(samples), max_length, max(token_index.values())+1))\n",
    "for i, sample in enumerate(samples):\n",
    "    for j, character in enumerate(sample):\n",
    "        index = token_index.get(character)\n",
    "        results[i, j, index] = 1."
   ]
  },
  {
   "cell_type": "markdown",
   "metadata": {},
   "source": [
    "### 케라스를 사용한 단어 수준의 원-핫 인코딩"
   ]
  },
  {
   "cell_type": "code",
   "execution_count": 5,
   "metadata": {},
   "outputs": [
    {
     "name": "stdout",
     "output_type": "stream",
     "text": [
      "9개의 고유한 토큰을 찾았습니다.\n"
     ]
    }
   ],
   "source": [
    "from keras.preprocessing.text import Tokenizer\n",
    "\n",
    "samples = ['The cat sat on the mat.', 'The dog ate my homework.']\n",
    "\n",
    "tokenizer = Tokenizer(num_words=1000) # 가장 빈도가 높은 1000개의 단어만 선택하도록 객체를 만든다.\n",
    "tokenizer.fit_on_texts(samples) # 단어 인덱스를 구축한다.\n",
    "\n",
    "sequences = tokenizer.texts_to_sequences(samples) # 문자열을 정수 인텍스의 리스트로 변환한다.\n",
    "\n",
    "one_hot_results = tokenizer.texts_to_matrix(samples, mode='binary')\n",
    "# 직접 원-핫 이진 벡터 표현을 얻을 수 있다. 다른 벡터화 방법도 제공한다.(count, freq, tfidf)\n",
    "\n",
    "word_index = tokenizer.word_index # 계산된 단어 인덱스를 구한다.\n",
    "print('%s개의 고유한 토큰을 찾았습니다.' % len(word_index))"
   ]
  },
  {
   "cell_type": "markdown",
   "metadata": {},
   "source": [
    "> 원-핫 인코딩의 변종 중 하나로 **원-핫 해싱**기법이 있다. 이 방식은 어휘 사전에 있는 고유한 토큰의 수가 너무 커서 모두 다루기 어려울 때 사용한다. 각 단어에 명시적으로 인덱스를 할당하고 이 인덱스를 딕셔너리에 저장하는 대신에 단어를 해싱하여 고정된 크기의 벡터로 변환한다. 이 방식의 주요 장점은 명시적인 단어 인덱스가 필요없기 때문에 메모리를 절약하고 온라인 방식으로 데이터를 인코딩할 수 있다.\n",
    "> #### 단점!!! 해시 충돌이다. 2개의 단어가 같은 해시를 만들면 이를 바라보는 모델은 단어 사이의 차이를 인식하지 못한다. 해싱 공간의 차원이 해싱될 고유 토큰의 전체 개수보다 훨씬 크면 가능성이 감소한다.\n",
    "### 해싱 기법을 사용한 단어 수준의 원-핫 인코딩"
   ]
  },
  {
   "cell_type": "code",
   "execution_count": 6,
   "metadata": {},
   "outputs": [],
   "source": [
    "samples = ['The cat sat on the mat.', 'The dog ate my homework.']\n",
    "\n",
    "dimensionality = 1000 # 단어를 크기가 1000인 벡터로 저장한다. 1000개 또는 그 이상의 단어가 있다면 해싱 충돌이 늘어난다.\n",
    "max_length = 10\n",
    "\n",
    "results = np.zeros((len(samples), max_length, dimensionality))\n",
    "for i, sample in enumerate(samples):\n",
    "    for j, word in list(enumerate(sample.split()))[:max_length]:\n",
    "        index = abs(hash(word)) % dimensionality # 단어를 해싱하여 0과 1000사이의 랜덤한 정수 인덱스로 반환한다.\n",
    "        results[i, j, index] = 1."
   ]
  }
 ],
 "metadata": {
  "kernelspec": {
   "display_name": "Python 3",
   "language": "python",
   "name": "python3"
  },
  "language_info": {
   "codemirror_mode": {
    "name": "ipython",
    "version": 3
   },
   "file_extension": ".py",
   "mimetype": "text/x-python",
   "name": "python",
   "nbconvert_exporter": "python",
   "pygments_lexer": "ipython3",
   "version": "3.8.5"
  }
 },
 "nbformat": 4,
 "nbformat_minor": 4
}
