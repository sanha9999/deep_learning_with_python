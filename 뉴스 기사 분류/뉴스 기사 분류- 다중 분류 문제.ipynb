{
 "cells": [
  {
   "cell_type": "markdown",
   "metadata": {},
   "source": [
    "### 로이터 데이터셋 로드하기"
   ]
  },
  {
   "cell_type": "code",
   "execution_count": 1,
   "metadata": {},
   "outputs": [
    {
     "name": "stdout",
     "output_type": "stream",
     "text": [
      "Downloading data from https://storage.googleapis.com/tensorflow/tf-keras-datasets/reuters.npz\n",
      "2113536/2110848 [==============================] - 0s 0us/step\n"
     ]
    },
    {
     "name": "stderr",
     "output_type": "stream",
     "text": [
      "C:\\Users\\user\\anaconda3\\lib\\site-packages\\tensorflow\\python\\keras\\datasets\\reuters.py:148: VisibleDeprecationWarning: Creating an ndarray from ragged nested sequences (which is a list-or-tuple of lists-or-tuples-or ndarrays with different lengths or shapes) is deprecated. If you meant to do this, you must specify 'dtype=object' when creating the ndarray\n",
      "  x_train, y_train = np.array(xs[:idx]), np.array(labels[:idx])\n",
      "C:\\Users\\user\\anaconda3\\lib\\site-packages\\tensorflow\\python\\keras\\datasets\\reuters.py:149: VisibleDeprecationWarning: Creating an ndarray from ragged nested sequences (which is a list-or-tuple of lists-or-tuples-or ndarrays with different lengths or shapes) is deprecated. If you meant to do this, you must specify 'dtype=object' when creating the ndarray\n",
      "  x_test, y_test = np.array(xs[idx:]), np.array(labels[idx:])\n"
     ]
    }
   ],
   "source": [
    "from keras.datasets import reuters\n",
    "\n",
    "(train_data, train_labels), (test_data, test_labels) = reuters.load_data(num_words=10000)"
   ]
  },
  {
   "cell_type": "code",
   "execution_count": 11,
   "metadata": {},
   "outputs": [
    {
     "data": {
      "text/plain": [
       "8982"
      ]
     },
     "execution_count": 11,
     "metadata": {},
     "output_type": "execute_result"
    }
   ],
   "source": [
    "len(train_data)"
   ]
  },
  {
   "cell_type": "code",
   "execution_count": 3,
   "metadata": {},
   "outputs": [
    {
     "data": {
      "text/plain": [
       "2246"
      ]
     },
     "execution_count": 3,
     "metadata": {},
     "output_type": "execute_result"
    }
   ],
   "source": [
    "len(test_data)"
   ]
  },
  {
   "cell_type": "code",
   "execution_count": 4,
   "metadata": {
    "scrolled": true
   },
   "outputs": [
    {
     "data": {
      "text/plain": [
       "[1,\n",
       " 2,\n",
       " 2,\n",
       " 8,\n",
       " 43,\n",
       " 10,\n",
       " 447,\n",
       " 5,\n",
       " 25,\n",
       " 207,\n",
       " 270,\n",
       " 5,\n",
       " 3095,\n",
       " 111,\n",
       " 16,\n",
       " 369,\n",
       " 186,\n",
       " 90,\n",
       " 67,\n",
       " 7,\n",
       " 89,\n",
       " 5,\n",
       " 19,\n",
       " 102,\n",
       " 6,\n",
       " 19,\n",
       " 124,\n",
       " 15,\n",
       " 90,\n",
       " 67,\n",
       " 84,\n",
       " 22,\n",
       " 482,\n",
       " 26,\n",
       " 7,\n",
       " 48,\n",
       " 4,\n",
       " 49,\n",
       " 8,\n",
       " 864,\n",
       " 39,\n",
       " 209,\n",
       " 154,\n",
       " 6,\n",
       " 151,\n",
       " 6,\n",
       " 83,\n",
       " 11,\n",
       " 15,\n",
       " 22,\n",
       " 155,\n",
       " 11,\n",
       " 15,\n",
       " 7,\n",
       " 48,\n",
       " 9,\n",
       " 4579,\n",
       " 1005,\n",
       " 504,\n",
       " 6,\n",
       " 258,\n",
       " 6,\n",
       " 272,\n",
       " 11,\n",
       " 15,\n",
       " 22,\n",
       " 134,\n",
       " 44,\n",
       " 11,\n",
       " 15,\n",
       " 16,\n",
       " 8,\n",
       " 197,\n",
       " 1245,\n",
       " 90,\n",
       " 67,\n",
       " 52,\n",
       " 29,\n",
       " 209,\n",
       " 30,\n",
       " 32,\n",
       " 132,\n",
       " 6,\n",
       " 109,\n",
       " 15,\n",
       " 17,\n",
       " 12]"
      ]
     },
     "execution_count": 4,
     "metadata": {},
     "output_type": "execute_result"
    }
   ],
   "source": [
    "train_data[0]"
   ]
  },
  {
   "cell_type": "markdown",
   "metadata": {},
   "source": [
    "### 데이터셋을 텍스트로 디코딩하기"
   ]
  },
  {
   "cell_type": "code",
   "execution_count": 5,
   "metadata": {},
   "outputs": [
    {
     "name": "stdout",
     "output_type": "stream",
     "text": [
      "Downloading data from https://storage.googleapis.com/tensorflow/tf-keras-datasets/reuters_word_index.json\n",
      "557056/550378 [==============================] - 0s 0us/step\n"
     ]
    }
   ],
   "source": [
    "word_index = reuters.get_word_index()\n",
    "# get_word_index()는 단어와 정수를 매핑한 딕셔너리를 리턴한다.\n",
    "reverse_word_index = dict([(value, key) for (key, value) in word_index.items()])\n",
    "# items()는 키와 값 쌍을 한꺼번에 list로 반환하고, 위의 코드는 value값과 key값을 뒤집어서 dict형식으로 반환하는 것이다.\n",
    "decoded_newswire = ''.join([reverse_word_index.get(i - 3, '?') for i in train_data[0]])\n",
    "# get()은 key값을 통해 value값을 찾아준다. 못찾을 경우에는 ?로 대채한다."
   ]
  },
  {
   "cell_type": "code",
   "execution_count": 7,
   "metadata": {},
   "outputs": [
    {
     "data": {
      "text/plain": [
       "3"
      ]
     },
     "execution_count": 7,
     "metadata": {},
     "output_type": "execute_result"
    }
   ],
   "source": [
    "train_labels[0]\n",
    "# 레이블은 토픽의 인덱스로 0과 45사이의 정수이다."
   ]
  },
  {
   "cell_type": "markdown",
   "metadata": {},
   "source": [
    "### 데이터 준비"
   ]
  },
  {
   "cell_type": "markdown",
   "metadata": {},
   "source": [
    "#### 데이터 인코딩하기"
   ]
  },
  {
   "cell_type": "code",
   "execution_count": 13,
   "metadata": {},
   "outputs": [],
   "source": [
    "import numpy as np\n",
    "\n",
    "def vectorize_sequences(sequences, dimension=10000):\n",
    "    results = np.zeros((len(sequences), dimension))\n",
    "    for i, sequences in enumerate(sequences):\n",
    "        results[i, sequences] = 1.\n",
    "    \n",
    "    return results\n",
    "\n",
    "x_train = vectorize_sequences(train_data) # 벡터 변환\n",
    "x_test = vectorize_sequences(test_data) # 벡터 변환"
   ]
  },
  {
   "cell_type": "markdown",
   "metadata": {},
   "source": [
    "#### 레이블 인코딩 하기"
   ]
  },
  {
   "cell_type": "code",
   "execution_count": 14,
   "metadata": {},
   "outputs": [],
   "source": [
    "# 함수로 나타냈을 때\n",
    "def to_one_hot(labels, dimension=46):\n",
    "    results = np.zeros((len(labels), dimension))\n",
    "    for i, label in enumerate(labels):\n",
    "        results[i, label] = 1.\n",
    "    return results\n",
    "\n",
    "one_hot_train_labels = to_one_hot(train_labels) # 벡터 변환\n",
    "one_hot_test_labels = to_one_hot(test_labels) # 벡터 변환"
   ]
  },
  {
   "cell_type": "code",
   "execution_count": 16,
   "metadata": {},
   "outputs": [],
   "source": [
    "# 케라스의 내장 함수\n",
    "\n",
    "from keras.utils.np_utils import to_categorical\n",
    "\n",
    "one_hot_train_labels = to_categorical(train_labels)\n",
    "one_hot_test_labels = to_categorical(test_labels)\n",
    "\n",
    "# 근데 test data하고 train 데이터는 넘파이 배열 오브젝트이기 때문에 to_categorical이 안된다."
   ]
  },
  {
   "cell_type": "code",
   "execution_count": 23,
   "metadata": {},
   "outputs": [
    {
     "data": {
      "text/plain": [
       "numpy.ndarray"
      ]
     },
     "execution_count": 23,
     "metadata": {},
     "output_type": "execute_result"
    }
   ],
   "source": [
    "type(train_labels)"
   ]
  },
  {
   "cell_type": "markdown",
   "metadata": {},
   "source": [
    "### 모델 구성"
   ]
  },
  {
   "cell_type": "markdown",
   "metadata": {},
   "source": [
    "#### 46개의 출력클래스가 있어야 하기에 유닛의 개수를 64개로 늘린다."
   ]
  },
  {
   "cell_type": "code",
   "execution_count": 28,
   "metadata": {},
   "outputs": [],
   "source": [
    "from keras import models\n",
    "from keras import layers\n",
    "\n",
    "model = models.Sequential()\n",
    "model.add(layers.Dense(64, activation='relu', input_shape=(10000,)))\n",
    "model.add(layers.Dense(64, activation='relu'))\n",
    "model.add(layers.Dense(46, activation='softmax'))"
   ]
  },
  {
   "cell_type": "markdown",
   "metadata": {},
   "source": [
    "#### 컴파일"
   ]
  },
  {
   "cell_type": "code",
   "execution_count": 29,
   "metadata": {},
   "outputs": [],
   "source": [
    "model.compile(optimizer='rmsprop',\n",
    "             loss='categorical_crossentropy',\n",
    "             metrics=['accuracy'])"
   ]
  },
  {
   "cell_type": "markdown",
   "metadata": {},
   "source": [
    "### 훈련 검증"
   ]
  },
  {
   "cell_type": "code",
   "execution_count": 30,
   "metadata": {},
   "outputs": [],
   "source": [
    "x_val = x_train[:1000]\n",
    "partial_x_train = x_train[1000:]\n",
    "\n",
    "y_val = one_hot_train_labels[:1000]\n",
    "partial_y_train = one_hot_train_labels[1000:]"
   ]
  },
  {
   "cell_type": "markdown",
   "metadata": {},
   "source": [
    "#### 모델 훈련하기"
   ]
  },
  {
   "cell_type": "code",
   "execution_count": 31,
   "metadata": {},
   "outputs": [
    {
     "name": "stdout",
     "output_type": "stream",
     "text": [
      "Epoch 1/20\n",
      "16/16 [==============================] - 1s 59ms/step - loss: 2.7194 - accuracy: 0.5249 - val_loss: 1.8065 - val_accuracy: 0.6570\n",
      "Epoch 2/20\n",
      "16/16 [==============================] - 0s 24ms/step - loss: 1.4378 - accuracy: 0.7030 - val_loss: 1.3028 - val_accuracy: 0.7160\n",
      "Epoch 3/20\n",
      "16/16 [==============================] - 0s 26ms/step - loss: 1.0469 - accuracy: 0.7750 - val_loss: 1.1202 - val_accuracy: 0.7520\n",
      "Epoch 4/20\n",
      "16/16 [==============================] - 0s 25ms/step - loss: 0.8264 - accuracy: 0.8234 - val_loss: 1.0573 - val_accuracy: 0.7620\n",
      "Epoch 5/20\n",
      "16/16 [==============================] - 0s 26ms/step - loss: 0.6619 - accuracy: 0.8586 - val_loss: 0.9596 - val_accuracy: 0.7990\n",
      "Epoch 6/20\n",
      "16/16 [==============================] - 0s 26ms/step - loss: 0.5299 - accuracy: 0.8900 - val_loss: 0.9398 - val_accuracy: 0.7950\n",
      "Epoch 7/20\n",
      "16/16 [==============================] - 0s 29ms/step - loss: 0.4304 - accuracy: 0.9117 - val_loss: 0.8955 - val_accuracy: 0.8110\n",
      "Epoch 8/20\n",
      "16/16 [==============================] - 0s 26ms/step - loss: 0.3501 - accuracy: 0.9252 - val_loss: 0.9042 - val_accuracy: 0.8090\n",
      "Epoch 9/20\n",
      "16/16 [==============================] - 0s 24ms/step - loss: 0.2924 - accuracy: 0.9356 - val_loss: 0.9275 - val_accuracy: 0.8070\n",
      "Epoch 10/20\n",
      "16/16 [==============================] - 0s 27ms/step - loss: 0.2491 - accuracy: 0.9429 - val_loss: 0.9332 - val_accuracy: 0.8020\n",
      "Epoch 11/20\n",
      "16/16 [==============================] - 0s 25ms/step - loss: 0.2118 - accuracy: 0.9469 - val_loss: 1.0392 - val_accuracy: 0.7770\n",
      "Epoch 12/20\n",
      "16/16 [==============================] - 0s 26ms/step - loss: 0.1861 - accuracy: 0.9503 - val_loss: 0.9478 - val_accuracy: 0.8090\n",
      "Epoch 13/20\n",
      "16/16 [==============================] - 0s 26ms/step - loss: 0.1724 - accuracy: 0.9536 - val_loss: 1.0343 - val_accuracy: 0.7930\n",
      "Epoch 14/20\n",
      "16/16 [==============================] - 0s 25ms/step - loss: 0.1493 - accuracy: 0.9545 - val_loss: 0.9679 - val_accuracy: 0.8140\n",
      "Epoch 15/20\n",
      "16/16 [==============================] - 0s 26ms/step - loss: 0.1406 - accuracy: 0.9575 - val_loss: 0.9890 - val_accuracy: 0.8070\n",
      "Epoch 16/20\n",
      "16/16 [==============================] - 0s 26ms/step - loss: 0.1382 - accuracy: 0.9562 - val_loss: 1.0087 - val_accuracy: 0.8020\n",
      "Epoch 17/20\n",
      "16/16 [==============================] - 0s 28ms/step - loss: 0.1272 - accuracy: 0.9574 - val_loss: 1.0421 - val_accuracy: 0.8070\n",
      "Epoch 18/20\n",
      "16/16 [==============================] - 0s 29ms/step - loss: 0.1229 - accuracy: 0.9567 - val_loss: 1.0121 - val_accuracy: 0.8170\n",
      "Epoch 19/20\n",
      "16/16 [==============================] - 0s 28ms/step - loss: 0.1169 - accuracy: 0.9568 - val_loss: 1.0562 - val_accuracy: 0.8110\n",
      "Epoch 20/20\n",
      "16/16 [==============================] - 0s 26ms/step - loss: 0.1115 - accuracy: 0.9595 - val_loss: 1.0825 - val_accuracy: 0.8050\n"
     ]
    }
   ],
   "source": [
    "history = model.fit(partial_x_train,\n",
    "                   partial_y_train,\n",
    "                   epochs=20,\n",
    "                   batch_size=512,\n",
    "                   validation_data=(x_val, y_val))"
   ]
  },
  {
   "cell_type": "markdown",
   "metadata": {},
   "source": [
    "#### 훈련과 검증 손실 그리기"
   ]
  },
  {
   "cell_type": "code",
   "execution_count": 32,
   "metadata": {},
   "outputs": [
    {
     "data": {
      "image/png": "[encoded data removed]",
      "text/plain": [
       "<Figure size 432x288 with 1 Axes>"
      ]
     },
     "metadata": {
      "needs_background": "light"
     },
     "output_type": "display_data"
    }
   ],
   "source": [
    "import matplotlib.pyplot as plt\n",
    "\n",
    "loss = history.history['loss']\n",
    "val_loss = history.history['val_loss']\n",
    "\n",
    "epochs = range(1, len(loss) + 1)\n",
    "\n",
    "plt.plot(epochs, loss, 'bo', label='Training loss')\n",
    "plt.plot(epochs, val_loss, 'b', label='Validation loss')\n",
    "plt.title('Training and validation loss')\n",
    "plt.xlabel('Epochs')\n",
    "plt.ylabel('Loss')\n",
    "plt.legend()\n",
    "\n",
    "plt.show()"
   ]
  },
  {
   "cell_type": "markdown",
   "metadata": {},
   "source": [
    "#### 훈련과 검증 정확도 그리기"
   ]
  },
  {
   "cell_type": "code",
   "execution_count": 33,
   "metadata": {},
   "outputs": [
    {
     "data": {
      "image/png": "[encoded data removed]",
      "text/plain": [
       "<Figure size 432x288 with 1 Axes>"
      ]
     },
     "metadata": {
      "needs_background": "light"
     },
     "output_type": "display_data"
    }
   ],
   "source": [
    "plt.clf() # 그래프 초기화\n",
    "\n",
    "acc = history.history['accuracy']\n",
    "val_acc = history.history['val_accuracy']\n",
    "\n",
    "epochs = range(1, len(acc)+1)\n",
    "\n",
    "plt.plot(epochs, acc, 'bo', label='Training accuracy')\n",
    "plt.plot(epochs, val_acc, 'b', label='Validation accuracy')\n",
    "plt.title('Training and validation accuracy')\n",
    "plt.xlabel('Epochs')\n",
    "plt.ylabel('Accuracy')\n",
    "plt.legend()\n",
    "\n",
    "plt.show()"
   ]
  },
  {
   "cell_type": "markdown",
   "metadata": {},
   "source": [
    "#### 아홉번째 에포크이후에 과대적합이 시작되므로 다시 훈련시킨다."
   ]
  },
  {
   "cell_type": "code",
   "execution_count": 35,
   "metadata": {},
   "outputs": [
    {
     "name": "stdout",
     "output_type": "stream",
     "text": [
      "Epoch 1/9\n",
      "16/16 [==============================] - 1s 35ms/step - loss: 2.5347 - accuracy: 0.5313 - val_loss: 1.6571 - val_accuracy: 0.6430\n",
      "Epoch 2/9\n",
      "16/16 [==============================] - 0s 27ms/step - loss: 1.3673 - accuracy: 0.7101 - val_loss: 1.2674 - val_accuracy: 0.7240\n",
      "Epoch 3/9\n",
      "16/16 [==============================] - 0s 27ms/step - loss: 1.0127 - accuracy: 0.7801 - val_loss: 1.0978 - val_accuracy: 0.7590\n",
      "Epoch 4/9\n",
      "16/16 [==============================] - 0s 25ms/step - loss: 0.7918 - accuracy: 0.8294 - val_loss: 1.0106 - val_accuracy: 0.7860\n",
      "Epoch 5/9\n",
      "16/16 [==============================] - 0s 26ms/step - loss: 0.6278 - accuracy: 0.8695 - val_loss: 0.9465 - val_accuracy: 0.7980\n",
      "Epoch 6/9\n",
      "16/16 [==============================] - 0s 27ms/step - loss: 0.4982 - accuracy: 0.8966 - val_loss: 0.9010 - val_accuracy: 0.8020\n",
      "Epoch 7/9\n",
      "16/16 [==============================] - 0s 26ms/step - loss: 0.4032 - accuracy: 0.9161 - val_loss: 0.8760 - val_accuracy: 0.8110\n",
      "Epoch 8/9\n",
      "16/16 [==============================] - 0s 27ms/step - loss: 0.3277 - accuracy: 0.9308 - val_loss: 0.8856 - val_accuracy: 0.8150\n",
      "Epoch 9/9\n",
      "16/16 [==============================] - 0s 24ms/step - loss: 0.2694 - accuracy: 0.9382 - val_loss: 0.8617 - val_accuracy: 0.8130\n",
      "71/71 [==============================] - 0s 2ms/step - loss: 0.9952 - accuracy: 0.7898\n"
     ]
    }
   ],
   "source": [
    "model = models.Sequential()\n",
    "model.add(layers.Dense(64, activation='relu', input_shape=(10000,)))\n",
    "model.add(layers.Dense(64, activation='relu'))\n",
    "model.add(layers.Dense(46, activation='softmax'))\n",
    "\n",
    "model.compile(optimizer='rmsprop',\n",
    "             loss='categorical_crossentropy',\n",
    "             metrics=['accuracy'])\n",
    "\n",
    "model.fit(partial_x_train,\n",
    "                   partial_y_train,\n",
    "                   epochs=9,\n",
    "                   batch_size=512,\n",
    "                   validation_data=(x_val, y_val))\n",
    "\n",
    "results = model.evaluate(x_test, one_hot_test_labels)"
   ]
  },
  {
   "cell_type": "code",
   "execution_count": 36,
   "metadata": {},
   "outputs": [
    {
     "data": {
      "text/plain": [
       "[0.9951522946357727, 0.7898486256599426]"
      ]
     },
     "execution_count": 36,
     "metadata": {},
     "output_type": "execute_result"
    }
   ],
   "source": [
    "results"
   ]
  },
  {
   "cell_type": "markdown",
   "metadata": {},
   "source": [
    "#### 새로운 데이터에 대해 예측하기"
   ]
  },
  {
   "cell_type": "code",
   "execution_count": 37,
   "metadata": {},
   "outputs": [],
   "source": [
    "predictions = model.predict(x_test)"
   ]
  },
  {
   "cell_type": "code",
   "execution_count": 38,
   "metadata": {},
   "outputs": [
    {
     "data": {
      "text/plain": [
       "(46,)"
      ]
     },
     "execution_count": 38,
     "metadata": {},
     "output_type": "execute_result"
    }
   ],
   "source": [
    "predictions[1].shape"
   ]
  },
  {
   "cell_type": "code",
   "execution_count": 40,
   "metadata": {},
   "outputs": [
    {
     "data": {
      "text/plain": [
       "1.0"
      ]
     },
     "execution_count": 40,
     "metadata": {},
     "output_type": "execute_result"
    }
   ],
   "source": [
    "np.sum(predictions[1]) # softmax함수 결과물의 수치합은 항상 1"
   ]
  },
  {
   "cell_type": "code",
   "execution_count": 41,
   "metadata": {},
   "outputs": [
    {
     "data": {
      "text/plain": [
       "10"
      ]
     },
     "execution_count": 41,
     "metadata": {},
     "output_type": "execute_result"
    }
   ],
   "source": [
    "np.argmax(predictions[1])\n",
    "# 11번째 토픽이라네. 렐루!!!!!"
   ]
  },
  {
   "cell_type": "markdown",
   "metadata": {},
   "source": [
    "### 추가 실험"
   ]
  },
  {
   "cell_type": "markdown",
   "metadata": {},
   "source": [
    "#### 3개의 은닉층 사용해보기"
   ]
  },
  {
   "cell_type": "code",
   "execution_count": 44,
   "metadata": {},
   "outputs": [
    {
     "name": "stdout",
     "output_type": "stream",
     "text": [
      "Epoch 1/8\n",
      "16/16 [==============================] - 1s 36ms/step - loss: 2.8137 - accuracy: 0.4595 - val_loss: 1.7810 - val_accuracy: 0.6190\n",
      "Epoch 2/8\n",
      "16/16 [==============================] - ETA: 0s - loss: 1.4764 - accuracy: 0.68 - 0s 26ms/step - loss: 1.4691 - accuracy: 0.6896 - val_loss: 1.3264 - val_accuracy: 0.7120\n",
      "Epoch 3/8\n",
      "16/16 [==============================] - 0s 26ms/step - loss: 1.0885 - accuracy: 0.7575 - val_loss: 1.1733 - val_accuracy: 0.7450\n",
      "Epoch 4/8\n",
      "16/16 [==============================] - 0s 25ms/step - loss: 0.8453 - accuracy: 0.8148 - val_loss: 1.0545 - val_accuracy: 0.7840\n",
      "Epoch 5/8\n",
      "16/16 [==============================] - 0s 25ms/step - loss: 0.6679 - accuracy: 0.8520 - val_loss: 0.9933 - val_accuracy: 0.7920\n",
      "Epoch 6/8\n",
      "16/16 [==============================] - 0s 29ms/step - loss: 0.5238 - accuracy: 0.8857 - val_loss: 0.9895 - val_accuracy: 0.7960\n",
      "Epoch 7/8\n",
      "16/16 [==============================] - 1s 33ms/step - loss: 0.4156 - accuracy: 0.9138 - val_loss: 0.9516 - val_accuracy: 0.8110\n",
      "Epoch 8/8\n",
      "16/16 [==============================] - 0s 28ms/step - loss: 0.3401 - accuracy: 0.9265 - val_loss: 0.9591 - val_accuracy: 0.8090\n",
      "71/71 [==============================] - 0s 2ms/step - loss: 1.0369 - accuracy: 0.7854\n"
     ]
    }
   ],
   "source": [
    "model = models.Sequential()\n",
    "model.add(layers.Dense(64, activation='relu', input_shape=(10000,)))\n",
    "model.add(layers.Dense(64, activation='relu'))\n",
    "model.add(layers.Dense(64, activation='relu'))\n",
    "model.add(layers.Dense(46, activation='softmax'))\n",
    "\n",
    "model.compile(optimizer='rmsprop',\n",
    "             loss='categorical_crossentropy',\n",
    "             metrics=['accuracy'])\n",
    "\n",
    "model.fit(partial_x_train,\n",
    "                   partial_y_train,\n",
    "                   epochs=8,\n",
    "                   batch_size=512,\n",
    "                   validation_data=(x_val, y_val))\n",
    "\n",
    "results = model.evaluate(x_test, one_hot_test_labels)"
   ]
  },
  {
   "cell_type": "code",
   "execution_count": 45,
   "metadata": {},
   "outputs": [
    {
     "data": {
      "text/plain": [
       "[1.036943793296814, 0.7853962779045105]"
      ]
     },
     "execution_count": 45,
     "metadata": {},
     "output_type": "execute_result"
    }
   ],
   "source": [
    "results"
   ]
  },
  {
   "cell_type": "code",
   "execution_count": null,
   "metadata": {},
   "outputs": [],
   "source": []
  }
 ],
 "metadata": {
  "kernelspec": {
   "display_name": "Python 3",
   "language": "python",
   "name": "python3"
  },
  "language_info": {
   "codemirror_mode": {
    "name": "ipython",
    "version": 3
   },
   "file_extension": ".py",
   "mimetype": "text/x-python",
   "name": "python",
   "nbconvert_exporter": "python",
   "pygments_lexer": "ipython3",
   "version": "3.8.5"
  }
 },
 "nbformat": 4,
 "nbformat_minor": 4
}
