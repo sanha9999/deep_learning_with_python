{
 "cells": [
  {
   "cell_type": "markdown",
   "metadata": {},
   "source": [
    "# 훈련, 검증, 테스트 폴더로 이미지 복사하기"
   ]
  },
  {
   "cell_type": "code",
   "execution_count": 1,
   "metadata": {},
   "outputs": [],
   "source": [
    "import os, shutil"
   ]
  },
  {
   "cell_type": "code",
   "execution_count": 2,
   "metadata": {},
   "outputs": [],
   "source": [
    "original_dataset_dir = 'D:/jupyter_proj/케라스 창시자에게 배우는 딥러닝/합성곱 신경망/datasets/train/cats_and_dogs'\n",
    "# 원본 데이터셋을 압축해제한 디렉토리 경로"
   ]
  },
  {
   "cell_type": "code",
   "execution_count": 3,
   "metadata": {},
   "outputs": [],
   "source": [
    "base_dir = 'D:/jupyter_proj/케라스 창시자에게 배우는 딥러닝/합성곱 신경망/datasets/train/cats_and_dogs_small'\n",
    "os.mkdir(base_dir)\n",
    "# 소규모 데이터셋을 저장할 디렉토리"
   ]
  },
  {
   "cell_type": "code",
   "execution_count": 4,
   "metadata": {},
   "outputs": [],
   "source": [
    "train_dir = os.path.join(base_dir, 'train')\n",
    "os.mkdir(train_dir)\n",
    "validation_dir = os.path.join(base_dir, 'validation')\n",
    "os.mkdir(validation_dir)\n",
    "test_dir = os.path.join(base_dir, 'test')\n",
    "os.mkdir(test_dir)\n",
    "# 훈련, 검증, 테스트 분할을 위한 디렉토리"
   ]
  },
  {
   "cell_type": "code",
   "execution_count": 5,
   "metadata": {},
   "outputs": [],
   "source": [
    "train_cats_dir = os.path.join(train_dir, 'cats')\n",
    "os.mkdir(train_cats_dir)\n",
    "# 훈련용 고양이 사진 디렉토리"
   ]
  },
  {
   "cell_type": "code",
   "execution_count": 7,
   "metadata": {},
   "outputs": [],
   "source": [
    "train_dogs_dir = os.path.join(train_dir, 'dogs')\n",
    "os.mkdir(train_dogs_dir)\n",
    "# 훈련용 강아지 사진 디렉토리"
   ]
  },
  {
   "cell_type": "code",
   "execution_count": 8,
   "metadata": {},
   "outputs": [],
   "source": [
    "validation_cats_dir = os.path.join(validation_dir, 'cats')\n",
    "os.mkdir(validation_cats_dir)\n",
    "# 검증용 고양이 사진 디렉토리"
   ]
  },
  {
   "cell_type": "code",
   "execution_count": 9,
   "metadata": {},
   "outputs": [],
   "source": [
    "validation_dogs_dir = os.path.join(validation_dir, 'dogs')\n",
    "os.mkdir(validation_dogs_dir)\n",
    "# 검증용 강아지 사진 디렉토리"
   ]
  },
  {
   "cell_type": "code",
   "execution_count": 10,
   "metadata": {},
   "outputs": [],
   "source": [
    "test_cats_dir = os.path.join(test_dir, 'cats')\n",
    "os.mkdir(test_cats_dir)\n",
    "# 테스트용 고양이 사진 디렉토리"
   ]
  },
  {
   "cell_type": "code",
   "execution_count": 11,
   "metadata": {},
   "outputs": [],
   "source": [
    "test_dogs_dir = os.path.join(test_dir, 'dogs')\n",
    "os.mkdir(test_dogs_dir)\n",
    "# 테스트용 강아지 사진 디렉토리"
   ]
  },
  {
   "cell_type": "code",
   "execution_count": 13,
   "metadata": {},
   "outputs": [],
   "source": [
    "fnames = ['cat.{}.jpg'.format(i) for i in range(1000)]\n",
    "for fname in fnames:\n",
    "    src = os.path.join(original_dataset_dir, fname)\n",
    "    dst = os.path.join(train_cats_dir, fname)\n",
    "    shutil.copyfile(src, dst)\n",
    "# 처음 1000개의 고양이 이미지를 train_cats_dir에 복사한다."
   ]
  },
  {
   "cell_type": "code",
   "execution_count": 14,
   "metadata": {},
   "outputs": [],
   "source": [
    "fnames = ['cat.{}.jpg'.format(i) for i in range(1000, 1500)]\n",
    "for fname in fnames:\n",
    "    src = os.path.join(original_dataset_dir, fname)\n",
    "    dst = os.path.join(validation_cats_dir, fname)\n",
    "    shutil.copyfile(src, dst)\n",
    "# 다음 500개의 고양이 이미지를 validation_cats_dir에 복사한다."
   ]
  },
  {
   "cell_type": "code",
   "execution_count": 15,
   "metadata": {},
   "outputs": [],
   "source": [
    "fnames = ['cat.{}.jpg'.format(i) for i in range(1500, 2000)]\n",
    "for fname in fnames:\n",
    "    src = os.path.join(original_dataset_dir, fname)\n",
    "    dst = os.path.join(test_cats_dir, fname)\n",
    "    shutil.copyfile(src, dst)\n",
    "# 다음 500개의 고양이 이미지를  test_cats_dir에 복사한다."
   ]
  },
  {
   "cell_type": "code",
   "execution_count": 16,
   "metadata": {},
   "outputs": [],
   "source": [
    "fnames = ['dog.{}.jpg'.format(i) for i in range(1000)]\n",
    "for fname in fnames:\n",
    "    src = os.path.join(original_dataset_dir, fname)\n",
    "    dst = os.path.join(train_dogs_dir, fname)\n",
    "    shutil.copyfile(src, dst)\n",
    "# 처음 1000개의 고양이 이미지를 train_dogs_dir에 복사한다."
   ]
  },
  {
   "cell_type": "code",
   "execution_count": 17,
   "metadata": {},
   "outputs": [],
   "source": [
    "fnames = ['dog.{}.jpg'.format(i) for i in range(1000, 1500)]\n",
    "for fname in fnames:\n",
    "    src = os.path.join(original_dataset_dir, fname)\n",
    "    dst = os.path.join(validation_dogs_dir, fname)\n",
    "    shutil.copyfile(src, dst)\n",
    "# 다음 500개의 고양이 이미지를 validation_dogs_dir에 복사한다."
   ]
  },
  {
   "cell_type": "code",
   "execution_count": 18,
   "metadata": {},
   "outputs": [],
   "source": [
    "fnames = ['dog.{}.jpg'.format(i) for i in range(1500, 2000)]\n",
    "for fname in fnames:\n",
    "    src = os.path.join(original_dataset_dir, fname)\n",
    "    dst = os.path.join(test_dogs_dir, fname)\n",
    "    shutil.copyfile(src, dst)\n",
    "# 다음 500개의 고양이 이미지를  test_dogs_dir에 복사한다."
   ]
  },
  {
   "cell_type": "code",
   "execution_count": 19,
   "metadata": {},
   "outputs": [
    {
     "name": "stdout",
     "output_type": "stream",
     "text": [
      "훈련용 고양이 이미지 전체 개수: 1000\n",
      "검증용 고양이 이미지 전체 개수: 500\n",
      "테스트용 고양이 이미지 전체 개수: 500\n"
     ]
    }
   ],
   "source": [
    "# 복사가 잘 되었는지 확인\n",
    "print('훈련용 고양이 이미지 전체 개수:', len(os.listdir(train_cats_dir)))\n",
    "print('검증용 고양이 이미지 전체 개수:', len(os.listdir(validation_cats_dir)))\n",
    "print('테스트용 고양이 이미지 전체 개수:', len(os.listdir(test_cats_dir)))"
   ]
  },
  {
   "cell_type": "code",
   "execution_count": 21,
   "metadata": {},
   "outputs": [
    {
     "name": "stdout",
     "output_type": "stream",
     "text": [
      "훈련용 강아지 이미지 전체 개수: 1000\n",
      "검증용 강아지 이미지 전체 개수: 500\n",
      "테스트용 강아지 이미지 전체 개수: 500\n"
     ]
    }
   ],
   "source": [
    "print('훈련용 강아지 이미지 전체 개수:', len(os.listdir(train_dogs_dir)))\n",
    "print('검증용 강아지 이미지 전체 개수:', len(os.listdir(validation_dogs_dir)))\n",
    "print('테스트용 강아지 이미지 전체 개수:', len(os.listdir(test_dogs_dir)))"
   ]
  },
  {
   "cell_type": "markdown",
   "metadata": {},
   "source": [
    "## 네트워크 구성하기\n",
    "### Conv2D(relu함수 사용)와 MaxPooling2D층을 번갈아 쌓은 컨브넷\n",
    "**특성 맵의 깊이는 네트워크에서 점진적으로 증가하지만 특성 맵의 크기는 감소한다. 이는 거의 모든 컨브넷에서 볼 수 있다.**\n",
    "\n",
    "### 소규모 컨브넷"
   ]
  },
  {
   "cell_type": "code",
   "execution_count": 23,
   "metadata": {},
   "outputs": [],
   "source": [
    "from keras import layers\n",
    "from keras import models\n",
    "\n",
    "model = models.Sequential()\n",
    "model.add(layers.Conv2D(32, (3, 3), activation='relu', input_shape=(150,150,3)))\n",
    "model.add(layers.MaxPooling2D((2, 2)))\n",
    "model.add(layers.Conv2D(64, (3, 3), activation='relu'))\n",
    "model.add(layers.MaxPooling2D((2, 2)))\n",
    "model.add(layers.Conv2D(128, (3, 3), activation='relu'))\n",
    "model.add(layers.MaxPooling2D((2, 2)))\n",
    "model.add(layers.Conv2D(128, (3, 3), activation='relu'))\n",
    "model.add(layers.MaxPooling2D((2, 2)))\n",
    "model.add(layers.Flatten())\n",
    "model.add(layers.Dense(512, activation='relu'))\n",
    "model.add(layers.Dense(1, activation='sigmoid'))"
   ]
  },
  {
   "cell_type": "code",
   "execution_count": 24,
   "metadata": {},
   "outputs": [
    {
     "name": "stdout",
     "output_type": "stream",
     "text": [
      "Model: \"sequential\"\n",
      "_________________________________________________________________\n",
      "Layer (type)                 Output Shape              Param #   \n",
      "=================================================================\n",
      "conv2d (Conv2D)              (None, 148, 148, 32)      896       \n",
      "_________________________________________________________________\n",
      "max_pooling2d (MaxPooling2D) (None, 74, 74, 32)        0         \n",
      "_________________________________________________________________\n",
      "conv2d_1 (Conv2D)            (None, 72, 72, 64)        18496     \n",
      "_________________________________________________________________\n",
      "max_pooling2d_1 (MaxPooling2 (None, 36, 36, 64)        0         \n",
      "_________________________________________________________________\n",
      "conv2d_2 (Conv2D)            (None, 34, 34, 128)       73856     \n",
      "_________________________________________________________________\n",
      "max_pooling2d_2 (MaxPooling2 (None, 17, 17, 128)       0         \n",
      "_________________________________________________________________\n",
      "conv2d_3 (Conv2D)            (None, 15, 15, 128)       147584    \n",
      "_________________________________________________________________\n",
      "max_pooling2d_3 (MaxPooling2 (None, 7, 7, 128)         0         \n",
      "_________________________________________________________________\n",
      "flatten (Flatten)            (None, 6272)              0         \n",
      "_________________________________________________________________\n",
      "dense (Dense)                (None, 512)               3211776   \n",
      "_________________________________________________________________\n",
      "dense_1 (Dense)              (None, 1)                 513       \n",
      "=================================================================\n",
      "Total params: 3,453,121\n",
      "Trainable params: 3,453,121\n",
      "Non-trainable params: 0\n",
      "_________________________________________________________________\n"
     ]
    }
   ],
   "source": [
    "model.summary()"
   ]
  },
  {
   "cell_type": "markdown",
   "metadata": {},
   "source": [
    "### 모델의 훈련 설정하기"
   ]
  },
  {
   "cell_type": "code",
   "execution_count": 25,
   "metadata": {},
   "outputs": [],
   "source": [
    "from keras import optimizers\n",
    "\n",
    "model.compile(loss='binary_crossentropy',\n",
    "             optimizer=optimizers.RMSprop(lr=1e-4),\n",
    "             metrics=['acc'])"
   ]
  },
  {
   "cell_type": "markdown",
   "metadata": {},
   "source": [
    "### 데이터 전처리\n",
    "> 데이터는 네트워크에 주입되기 전에 부동 소수 타입의 센서로 적절하게 전처리되어 있어야 한다. JPEG파일의 전처리는 이렇게 하면 된다.\n",
    "* 사진파일을 읽는다.\n",
    "* JPEG 콘텐츠를 RGB 픽셀 값으로 인코딩한다.\n",
    "* 그다음 부동 소수 타입의 텐서로 변환한다.\n",
    "* 픽셀값(0에서 255사이)의 스케일을 [0, 1]사이로 조정한다.(신경망은 작은 입력값을 좋아한다..)\n",
    "\n",
    "> #### 케라스에는 이런 단계를 자동으로 처리하는 유틸리티가 있다네??\n",
    "> ``` keras,preprocessing.image``` 에 이미지 처리를 위한게 있다. 특히 ```ImageDataGenerator``` 클래스는 디스크에 있는 이미지파일을 전처리된 배치 텐서로 자동으로 바꾸어주는 파이썬 제너레이터를 만들어 준다.\n",
    "\n",
    "### ImageDataGenerator를 사용하여 디렉토리에서 이미지 읽기"
   ]
  },
  {
   "cell_type": "code",
   "execution_count": 26,
   "metadata": {},
   "outputs": [
    {
     "name": "stdout",
     "output_type": "stream",
     "text": [
      "Found 2000 images belonging to 2 classes.\n",
      "Found 1000 images belonging to 2 classes.\n"
     ]
    }
   ],
   "source": [
    "from keras.preprocessing.image import ImageDataGenerator\n",
    "\n",
    "train_datagen = ImageDataGenerator(rescale=1./255) # 모든 이미지를 1/255로 스케일을 조정한다.\n",
    "test_datagen = ImageDataGenerator(rescale=1./255)\n",
    "\n",
    "train_generator = train_datagen.flow_from_directory(\n",
    "    train_dir, # 타깃 디렉터리\n",
    "    target_size=(150,150), # 모든 이미지를 150 * 150으로 바꾼다.\n",
    "    batch_size=20,\n",
    "    class_mode='binary' # binary_crossentropy 손실함수를 사용하기 때문에 이진 레이블이 필요하다.\n",
    ")\n",
    "\n",
    "validation_generator = test_datagen.flow_from_directory (\n",
    "    validation_dir,\n",
    "    target_size=(150, 150),\n",
    "    batch_size=20,\n",
    "    class_mode='binary')   "
   ]
  },
  {
   "cell_type": "code",
   "execution_count": 27,
   "metadata": {},
   "outputs": [
    {
     "name": "stdout",
     "output_type": "stream",
     "text": [
      "배치 데이터 크기: (20, 150, 150, 3)\n",
      "배치 레이블 크기: (20,)\n"
     ]
    }
   ],
   "source": [
    "for data_batch, label_batch in train_generator:\n",
    "    print('배치 데이터 크기:', data_batch.shape)\n",
    "    print('배치 레이블 크기:', label_batch.shape)\n",
    "    break"
   ]
  },
  {
   "cell_type": "markdown",
   "metadata": {},
   "source": [
    "### 배치 제너레이터를 사용하여 모델 훈련하기"
   ]
  },
  {
   "cell_type": "code",
   "execution_count": 28,
   "metadata": {},
   "outputs": [
    {
     "name": "stdout",
     "output_type": "stream",
     "text": [
      "WARNING:tensorflow:From <ipython-input-28-76dc69394845>:1: Model.fit_generator (from tensorflow.python.keras.engine.training) is deprecated and will be removed in a future version.\n",
      "Instructions for updating:\n",
      "Please use Model.fit, which supports generators.\n",
      "Epoch 1/30\n",
      "100/100 [==============================] - 62s 621ms/step - loss: 0.6889 - acc: 0.5280 - val_loss: 0.6687 - val_acc: 0.6080\n",
      "Epoch 2/30\n",
      "100/100 [==============================] - 53s 526ms/step - loss: 0.6554 - acc: 0.6165 - val_loss: 0.6367 - val_acc: 0.6300\n",
      "Epoch 3/30\n",
      "100/100 [==============================] - 54s 535ms/step - loss: 0.6064 - acc: 0.6750 - val_loss: 0.6100 - val_acc: 0.6680\n",
      "Epoch 4/30\n",
      "100/100 [==============================] - 54s 535ms/step - loss: 0.5693 - acc: 0.7010 - val_loss: 0.5848 - val_acc: 0.6920\n",
      "Epoch 5/30\n",
      "100/100 [==============================] - 53s 532ms/step - loss: 0.5423 - acc: 0.7295 - val_loss: 0.6146 - val_acc: 0.6540\n",
      "Epoch 6/30\n",
      "100/100 [==============================] - 53s 529ms/step - loss: 0.5208 - acc: 0.7435 - val_loss: 0.5950 - val_acc: 0.6800\n",
      "Epoch 7/30\n",
      "100/100 [==============================] - 53s 527ms/step - loss: 0.4898 - acc: 0.7655 - val_loss: 0.5556 - val_acc: 0.7070\n",
      "Epoch 8/30\n",
      "100/100 [==============================] - 54s 538ms/step - loss: 0.4653 - acc: 0.7870 - val_loss: 0.5720 - val_acc: 0.6900\n",
      "Epoch 9/30\n",
      "100/100 [==============================] - 53s 529ms/step - loss: 0.4420 - acc: 0.8000 - val_loss: 0.5606 - val_acc: 0.7050\n",
      "Epoch 10/30\n",
      "100/100 [==============================] - 53s 532ms/step - loss: 0.4172 - acc: 0.8070 - val_loss: 0.5504 - val_acc: 0.7150\n",
      "Epoch 11/30\n",
      "100/100 [==============================] - 53s 531ms/step - loss: 0.3944 - acc: 0.8200 - val_loss: 0.5573 - val_acc: 0.7180\n",
      "Epoch 12/30\n",
      "100/100 [==============================] - 53s 532ms/step - loss: 0.3742 - acc: 0.8275 - val_loss: 0.5520 - val_acc: 0.7290\n",
      "Epoch 13/30\n",
      "100/100 [==============================] - 53s 530ms/step - loss: 0.3540 - acc: 0.8480 - val_loss: 0.5397 - val_acc: 0.7290\n",
      "Epoch 14/30\n",
      "100/100 [==============================] - 54s 536ms/step - loss: 0.3274 - acc: 0.8635 - val_loss: 0.5653 - val_acc: 0.7200\n",
      "Epoch 15/30\n",
      "100/100 [==============================] - 54s 538ms/step - loss: 0.3132 - acc: 0.8685 - val_loss: 0.5732 - val_acc: 0.7270\n",
      "Epoch 16/30\n",
      "100/100 [==============================] - 53s 534ms/step - loss: 0.2866 - acc: 0.8880 - val_loss: 0.6198 - val_acc: 0.7320\n",
      "Epoch 17/30\n",
      "100/100 [==============================] - 54s 537ms/step - loss: 0.2638 - acc: 0.8890 - val_loss: 0.5588 - val_acc: 0.7440\n",
      "Epoch 18/30\n",
      "100/100 [==============================] - 53s 531ms/step - loss: 0.2436 - acc: 0.9065 - val_loss: 0.5925 - val_acc: 0.7430\n",
      "Epoch 19/30\n",
      "100/100 [==============================] - 54s 537ms/step - loss: 0.2267 - acc: 0.9035 - val_loss: 0.6614 - val_acc: 0.7280\n",
      "Epoch 20/30\n",
      "100/100 [==============================] - 54s 541ms/step - loss: 0.2036 - acc: 0.9215 - val_loss: 0.6218 - val_acc: 0.7400\n",
      "Epoch 21/30\n",
      "100/100 [==============================] - 54s 536ms/step - loss: 0.1874 - acc: 0.9340 - val_loss: 0.6207 - val_acc: 0.7480\n",
      "Epoch 22/30\n",
      "100/100 [==============================] - 53s 535ms/step - loss: 0.1740 - acc: 0.9395 - val_loss: 0.6806 - val_acc: 0.7410\n",
      "Epoch 23/30\n",
      "100/100 [==============================] - 54s 542ms/step - loss: 0.1509 - acc: 0.9455 - val_loss: 0.6678 - val_acc: 0.7430\n",
      "Epoch 24/30\n",
      "100/100 [==============================] - 53s 534ms/step - loss: 0.1311 - acc: 0.9615 - val_loss: 0.6994 - val_acc: 0.7420\n",
      "Epoch 25/30\n",
      "100/100 [==============================] - 54s 540ms/step - loss: 0.1196 - acc: 0.9640 - val_loss: 0.7596 - val_acc: 0.7370\n",
      "Epoch 26/30\n",
      "100/100 [==============================] - 53s 535ms/step - loss: 0.1077 - acc: 0.9635 - val_loss: 0.8047 - val_acc: 0.7340\n",
      "Epoch 27/30\n",
      "100/100 [==============================] - 54s 538ms/step - loss: 0.0934 - acc: 0.9705 - val_loss: 0.7949 - val_acc: 0.7400\n",
      "Epoch 28/30\n",
      "100/100 [==============================] - 54s 535ms/step - loss: 0.0842 - acc: 0.9725 - val_loss: 0.7719 - val_acc: 0.7530\n",
      "Epoch 29/30\n",
      "100/100 [==============================] - 53s 534ms/step - loss: 0.0707 - acc: 0.9820 - val_loss: 0.8270 - val_acc: 0.7390\n",
      "Epoch 30/30\n",
      "100/100 [==============================] - 53s 534ms/step - loss: 0.0629 - acc: 0.9850 - val_loss: 0.8209 - val_acc: 0.7520\n"
     ]
    }
   ],
   "source": [
    "history = model.fit_generator(\n",
    "    train_generator,\n",
    "    steps_per_epoch=100,\n",
    "    epochs=30,\n",
    "    validation_data=validation_generator,\n",
    "    validation_steps=50)"
   ]
  },
  {
   "cell_type": "markdown",
   "metadata": {},
   "source": [
    "### 모델 저장하기"
   ]
  },
  {
   "cell_type": "code",
   "execution_count": 29,
   "metadata": {},
   "outputs": [],
   "source": [
    "model.save('cats_and_dogs_small_1.h5')"
   ]
  }
 ],
 "metadata": {
  "kernelspec": {
   "display_name": "Python 3",
   "language": "python",
   "name": "python3"
  },
  "language_info": {
   "codemirror_mode": {
    "name": "ipython",
    "version": 3
   },
   "file_extension": ".py",
   "mimetype": "text/x-python",
   "name": "python",
   "nbconvert_exporter": "python",
   "pygments_lexer": "ipython3",
   "version": "3.8.5"
  }
 },
 "nbformat": 4,
 "nbformat_minor": 4
}
