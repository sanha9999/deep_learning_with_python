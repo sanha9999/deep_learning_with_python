{
 "cells": [
  {
   "cell_type": "markdown",
   "metadata": {},
   "source": [
    "# 네트워크 크기 축소\n",
    "------------------------------------\n",
    "> #### 과대적합을 막는 가장 단순한 방법으로 모델의 학습 파라미터 수를 줄이는 것이다.\n",
    "> #### 파라미터가 많은 모델이 기억 용량이 더 많지만, 이런 것은 일반화 능력이 없다.\n",
    "> #### 하지만 또한 과소적합이 되지 않도록 충분한 파라미터를 가진 모델이어야 하기에 중간 정도의 절충점을 계속된 평가를 통해 알아봐야 한다.\n",
    "\n",
    "### 영화 리뷰 모델에 적용해보기"
   ]
  },
  {
   "cell_type": "code",
   "execution_count": 1,
   "metadata": {},
   "outputs": [],
   "source": [
    "from keras.datasets import imdb"
   ]
  },
  {
   "cell_type": "code",
   "execution_count": 2,
   "metadata": {},
   "outputs": [
    {
     "name": "stderr",
     "output_type": "stream",
     "text": [
      "<__array_function__ internals>:5: VisibleDeprecationWarning: Creating an ndarray from ragged nested sequences (which is a list-or-tuple of lists-or-tuples-or ndarrays with different lengths or shapes) is deprecated. If you meant to do this, you must specify 'dtype=object' when creating the ndarray\n",
      "C:\\Users\\user\\anaconda3\\lib\\site-packages\\tensorflow\\python\\keras\\datasets\\imdb.py:159: VisibleDeprecationWarning: Creating an ndarray from ragged nested sequences (which is a list-or-tuple of lists-or-tuples-or ndarrays with different lengths or shapes) is deprecated. If you meant to do this, you must specify 'dtype=object' when creating the ndarray\n",
      "  x_train, y_train = np.array(xs[:idx]), np.array(labels[:idx])\n",
      "C:\\Users\\user\\anaconda3\\lib\\site-packages\\tensorflow\\python\\keras\\datasets\\imdb.py:160: VisibleDeprecationWarning: Creating an ndarray from ragged nested sequences (which is a list-or-tuple of lists-or-tuples-or ndarrays with different lengths or shapes) is deprecated. If you meant to do this, you must specify 'dtype=object' when creating the ndarray\n",
      "  x_test, y_test = np.array(xs[idx:]), np.array(labels[idx:])\n"
     ]
    }
   ],
   "source": [
    "(train_data, train_labels), (test_data, test_labels) = imdb.load_data(num_words=10000)"
   ]
  },
  {
   "cell_type": "code",
   "execution_count": 3,
   "metadata": {},
   "outputs": [],
   "source": [
    "word_index = imdb.get_word_index() # word_index는 단어와 정수 인텍스를 매핑한 딕셔너리\n",
    "reverse_word_index = dict([(value, key) for (key, value) in word_index.items()]) # 정수 인덱스와 단어를 매핑하도록 뒤집는다.\n",
    "decoded_review = ' '.join([reverse_word_index.get(i - 3, '?') for i in train_data[0]])"
   ]
  },
  {
   "cell_type": "code",
   "execution_count": 5,
   "metadata": {},
   "outputs": [],
   "source": [
    "import numpy as np\n",
    "\n",
    "def vectorize_sequences(sequences, dimension=10000):\n",
    "    results = np.zeros((len(sequences), dimension))\n",
    "    # 크기가 (len(sequences), dimension)인 모든 원소가 0인 행렬을 만든다.\n",
    "    for i, sequences in enumerate(sequences):\n",
    "        results[i, sequences] = 1. # result[i]에서 특정 인덱스의 위치를 1로 만든다.\n",
    "    return results\n",
    "\n",
    "\n",
    "x_train = vectorize_sequences(train_data) # 훈련데이터를 벡터로 변환한다.\n",
    "x_test = vectorize_sequences(test_data) # 테스트 데이터를 벡터로 변환한다."
   ]
  },
  {
   "cell_type": "code",
   "execution_count": 6,
   "metadata": {},
   "outputs": [],
   "source": [
    "y_train = np.asarray(train_labels).astype('float32')\n",
    "y_test = np.asarray(test_labels).astype('float32')"
   ]
  },
  {
   "cell_type": "markdown",
   "metadata": {},
   "source": [
    "## 원래 네트워크"
   ]
  },
  {
   "cell_type": "code",
   "execution_count": 7,
   "metadata": {},
   "outputs": [],
   "source": [
    "from keras import models\n",
    "from keras import layers\n",
    "\n",
    "model = models.Sequential()\n",
    "model.add(layers.Dense(16, activation=\"relu\", input_shape=(10000, )))\n",
    "model.add(layers.Dense(16, activation=\"relu\"))\n",
    "model.add(layers.Dense(1, activation='sigmoid'))"
   ]
  },
  {
   "cell_type": "code",
   "execution_count": 8,
   "metadata": {},
   "outputs": [],
   "source": [
    "model.compile(optimizer='rmsprop',\n",
    "             loss='binarp_crossentropy',\n",
    "             metrics=['accuracy'])"
   ]
  },
  {
   "cell_type": "code",
   "execution_count": 9,
   "metadata": {},
   "outputs": [],
   "source": [
    "x_val = x_train[:10000]\n",
    "partial_x_train = x_train[10000:]\n",
    "y_val = y_train[:10000]\n",
    "partial_y_train = y_train[10000:]"
   ]
  },
  {
   "cell_type": "code",
   "execution_count": 10,
   "metadata": {},
   "outputs": [
    {
     "name": "stdout",
     "output_type": "stream",
     "text": [
      "Epoch 1/20\n",
      "30/30 [==============================] - 4s 138ms/step - loss: 0.5272 - acc: 0.7781 - val_loss: 0.4198 - val_acc: 0.8314\n",
      "Epoch 2/20\n",
      "30/30 [==============================] - 1s 26ms/step - loss: 0.3118 - acc: 0.8989 - val_loss: 0.3051 - val_acc: 0.8875\n",
      "Epoch 3/20\n",
      "30/30 [==============================] - 1s 24ms/step - loss: 0.2239 - acc: 0.9267 - val_loss: 0.2971 - val_acc: 0.8806\n",
      "Epoch 4/20\n",
      "30/30 [==============================] - 1s 26ms/step - loss: 0.1750 - acc: 0.9421 - val_loss: 0.2908 - val_acc: 0.8826\n",
      "Epoch 5/20\n",
      "30/30 [==============================] - 1s 26ms/step - loss: 0.1431 - acc: 0.9513 - val_loss: 0.2881 - val_acc: 0.8858\n",
      "Epoch 6/20\n",
      "30/30 [==============================] - 1s 24ms/step - loss: 0.1206 - acc: 0.9629 - val_loss: 0.3112 - val_acc: 0.8815\n",
      "Epoch 7/20\n",
      "30/30 [==============================] - 1s 22ms/step - loss: 0.0972 - acc: 0.9706 - val_loss: 0.3271 - val_acc: 0.8805\n",
      "Epoch 8/20\n",
      "30/30 [==============================] - 1s 24ms/step - loss: 0.0839 - acc: 0.9751 - val_loss: 0.3397 - val_acc: 0.8772\n",
      "Epoch 9/20\n",
      "30/30 [==============================] - 1s 22ms/step - loss: 0.0693 - acc: 0.9820 - val_loss: 0.3581 - val_acc: 0.8812\n",
      "Epoch 10/20\n",
      "30/30 [==============================] - 1s 24ms/step - loss: 0.0568 - acc: 0.9853 - val_loss: 0.3793 - val_acc: 0.8803\n",
      "Epoch 11/20\n",
      "30/30 [==============================] - 1s 25ms/step - loss: 0.0483 - acc: 0.9879 - val_loss: 0.4259 - val_acc: 0.8689\n",
      "Epoch 12/20\n",
      "30/30 [==============================] - 1s 23ms/step - loss: 0.0392 - acc: 0.9908 - val_loss: 0.4459 - val_acc: 0.8748\n",
      "Epoch 13/20\n",
      "30/30 [==============================] - 1s 21ms/step - loss: 0.0315 - acc: 0.9926 - val_loss: 0.4795 - val_acc: 0.8670\n",
      "Epoch 14/20\n",
      "30/30 [==============================] - 1s 21ms/step - loss: 0.0260 - acc: 0.9946 - val_loss: 0.5016 - val_acc: 0.8708\n",
      "Epoch 15/20\n",
      "30/30 [==============================] - 1s 22ms/step - loss: 0.0215 - acc: 0.9957 - val_loss: 0.5362 - val_acc: 0.8690\n",
      "Epoch 16/20\n",
      "30/30 [==============================] - 1s 25ms/step - loss: 0.0172 - acc: 0.9973 - val_loss: 0.5719 - val_acc: 0.8694\n",
      "Epoch 17/20\n",
      "30/30 [==============================] - 1s 22ms/step - loss: 0.0128 - acc: 0.9985 - val_loss: 0.6062 - val_acc: 0.8668\n",
      "Epoch 18/20\n",
      "30/30 [==============================] - 1s 22ms/step - loss: 0.0098 - acc: 0.9992 - val_loss: 0.6482 - val_acc: 0.8668\n",
      "Epoch 19/20\n",
      "30/30 [==============================] - 1s 22ms/step - loss: 0.0093 - acc: 0.9989 - val_loss: 0.6862 - val_acc: 0.8645\n",
      "Epoch 20/20\n",
      "30/30 [==============================] - 1s 23ms/step - loss: 0.0085 - acc: 0.9987 - val_loss: 0.7227 - val_acc: 0.8635\n"
     ]
    }
   ],
   "source": [
    "model.compile(optimizer='rmsprop',\n",
    "             loss='binary_crossentropy',\n",
    "             metrics=['acc']) # 정확도를 지정할 떼 accuracy 또는 acc 모두 사용 가능하다.\n",
    "\n",
    "history = model.fit(partial_x_train,\n",
    "                   partial_y_train,\n",
    "                   epochs=20,\n",
    "                   batch_size=512,\n",
    "                   validation_data=(x_val, y_val))"
   ]
  },
  {
   "cell_type": "code",
   "execution_count": 11,
   "metadata": {},
   "outputs": [],
   "source": [
    "history_dict = history.history"
   ]
  },
  {
   "cell_type": "code",
   "execution_count": 12,
   "metadata": {},
   "outputs": [
    {
     "data": {
      "text/plain": [
       "dict_keys(['loss', 'acc', 'val_loss', 'val_acc'])"
      ]
     },
     "execution_count": 12,
     "metadata": {},
     "output_type": "execute_result"
    }
   ],
   "source": [
    "history_dict.keys()"
   ]
  },
  {
   "cell_type": "code",
   "execution_count": 13,
   "metadata": {},
   "outputs": [
    {
     "data": {
      "image/png": "[encoded data removed]",
      "text/plain": [
       "<Figure size 432x288 with 1 Axes>"
      ]
     },
     "metadata": {
      "needs_background": "light"
     },
     "output_type": "display_data"
    }
   ],
   "source": [
    "import matplotlib.pyplot as plt\n",
    "\n",
    "loss = history_dict['loss']\n",
    "val_loss = history_dict['val_loss']\n",
    "\n",
    "epochs = range(1, len(loss) + 1)\n",
    "\n",
    "plt.plot(epochs, loss, 'bo', label='Training loss') # 'bo'는 파란색 점을 의미한다.\n",
    "plt.plot(epochs, val_loss, 'b', label='Validation loss') # 'b'는 파란색 실선을 의미한다.\n",
    "plt.title('Training and validation loss')\n",
    "plt.xlabel('Epochs')\n",
    "plt.ylabel('Loss')\n",
    "plt.legend()\n",
    "\n",
    "plt.show()"
   ]
  },
  {
   "cell_type": "markdown",
   "metadata": {},
   "source": [
    "## 더 작은 네트워크"
   ]
  },
  {
   "cell_type": "code",
   "execution_count": 14,
   "metadata": {},
   "outputs": [
    {
     "name": "stdout",
     "output_type": "stream",
     "text": [
      "Epoch 1/20\n",
      "30/30 [==============================] - 14s 464ms/step - loss: 0.5432 - acc: 0.7863 - val_loss: 0.4392 - val_acc: 0.8628\n",
      "Epoch 2/20\n",
      "30/30 [==============================] - 1s 23ms/step - loss: 0.3676 - acc: 0.8919 - val_loss: 0.3556 - val_acc: 0.8794\n",
      "Epoch 3/20\n",
      "30/30 [==============================] - 1s 20ms/step - loss: 0.2837 - acc: 0.9140 - val_loss: 0.3081 - val_acc: 0.8876\n",
      "Epoch 4/20\n",
      "30/30 [==============================] - 1s 20ms/step - loss: 0.2316 - acc: 0.9299 - val_loss: 0.2862 - val_acc: 0.8911\n",
      "Epoch 5/20\n",
      "30/30 [==============================] - 1s 21ms/step - loss: 0.1958 - acc: 0.9393 - val_loss: 0.2776 - val_acc: 0.8906\n",
      "Epoch 6/20\n",
      "30/30 [==============================] - 1s 21ms/step - loss: 0.1684 - acc: 0.9482 - val_loss: 0.2753 - val_acc: 0.8896\n",
      "Epoch 7/20\n",
      "30/30 [==============================] - 1s 21ms/step - loss: 0.1467 - acc: 0.9568 - val_loss: 0.2889 - val_acc: 0.8833\n",
      "Epoch 8/20\n",
      "30/30 [==============================] - 1s 22ms/step - loss: 0.1290 - acc: 0.9632 - val_loss: 0.2816 - val_acc: 0.8877\n",
      "Epoch 9/20\n",
      "30/30 [==============================] - 1s 22ms/step - loss: 0.1149 - acc: 0.9667 - val_loss: 0.2859 - val_acc: 0.8860\n",
      "Epoch 10/20\n",
      "30/30 [==============================] - 1s 23ms/step - loss: 0.1011 - acc: 0.9718 - val_loss: 0.2953 - val_acc: 0.8859\n",
      "Epoch 11/20\n",
      "30/30 [==============================] - 1s 25ms/step - loss: 0.0902 - acc: 0.9766 - val_loss: 0.3055 - val_acc: 0.8840\n",
      "Epoch 12/20\n",
      "30/30 [==============================] - 1s 28ms/step - loss: 0.0799 - acc: 0.9796 - val_loss: 0.3176 - val_acc: 0.8832\n",
      "Epoch 13/20\n",
      "30/30 [==============================] - 1s 28ms/step - loss: 0.0703 - acc: 0.9834 - val_loss: 0.3331 - val_acc: 0.8832\n",
      "Epoch 14/20\n",
      "30/30 [==============================] - 1s 29ms/step - loss: 0.0629 - acc: 0.9857 - val_loss: 0.3472 - val_acc: 0.8821\n",
      "Epoch 15/20\n",
      "30/30 [==============================] - 1s 23ms/step - loss: 0.0553 - acc: 0.9877 - val_loss: 0.3613 - val_acc: 0.8786\n",
      "Epoch 16/20\n",
      "30/30 [==============================] - 1s 21ms/step - loss: 0.0486 - acc: 0.9904 - val_loss: 0.3780 - val_acc: 0.8778\n",
      "Epoch 17/20\n",
      "30/30 [==============================] - 1s 20ms/step - loss: 0.0427 - acc: 0.9910 - val_loss: 0.4158 - val_acc: 0.8692\n",
      "Epoch 18/20\n",
      "30/30 [==============================] - 1s 20ms/step - loss: 0.0370 - acc: 0.9933 - val_loss: 0.4127 - val_acc: 0.8774\n",
      "Epoch 19/20\n",
      "30/30 [==============================] - 1s 20ms/step - loss: 0.0325 - acc: 0.9945 - val_loss: 0.4335 - val_acc: 0.8738\n",
      "Epoch 20/20\n",
      "30/30 [==============================] - 1s 18ms/step - loss: 0.0282 - acc: 0.9957 - val_loss: 0.4542 - val_acc: 0.8735\n"
     ]
    },
    {
     "data": {
      "image/png": "[encoded data removed]",
      "text/plain": [
       "<Figure size 432x288 with 1 Axes>"
      ]
     },
     "metadata": {
      "needs_background": "light"
     },
     "output_type": "display_data"
    }
   ],
   "source": [
    "model = models.Sequential()\n",
    "model.add(layers.Dense(6, activation=\"relu\", input_shape=(10000, )))\n",
    "model.add(layers.Dense(6, activation=\"relu\"))\n",
    "model.add(layers.Dense(1, activation='sigmoid'))\n",
    "model.compile(optimizer='rmsprop',\n",
    "             loss='binary_crossentropy',\n",
    "             metrics=['acc']) # 정확도를 지정할 떼 accuracy 또는 acc 모두 사용 가능하다.\n",
    "\n",
    "history = model.fit(partial_x_train,\n",
    "                   partial_y_train,\n",
    "                   epochs=20,\n",
    "                   batch_size=512,\n",
    "                   validation_data=(x_val, y_val))\n",
    "history_dict = history.history\n",
    "loss = history_dict['loss']\n",
    "val_loss = history_dict['val_loss']\n",
    "\n",
    "epochs = range(1, len(loss) + 1)\n",
    "\n",
    "plt.plot(epochs, loss, 'bo', label='Training loss') # 'bo'는 파란색 점을 의미한다.\n",
    "plt.plot(epochs, val_loss, 'b', label='Validation loss') # 'b'는 파란색 실선을 의미한다.\n",
    "plt.title('Training and validation loss')\n",
    "plt.xlabel('Epochs')\n",
    "plt.ylabel('Loss')\n",
    "plt.legend()\n",
    "\n",
    "plt.show()"
   ]
  },
  {
   "cell_type": "markdown",
   "metadata": {},
   "source": [
    "### 과대적합되는 부분이 작은 네트워크가 더 나중에 된다!!\n",
    "### 이번에는 훨씬 더 큰 용량을 가진 네트워크.."
   ]
  },
  {
   "cell_type": "code",
   "execution_count": 15,
   "metadata": {},
   "outputs": [
    {
     "name": "stdout",
     "output_type": "stream",
     "text": [
      "Epoch 1/20\n",
      "30/30 [==============================] - 13s 439ms/step - loss: 0.6659 - acc: 0.7466 - val_loss: 0.3302 - val_acc: 0.8747\n",
      "Epoch 2/20\n",
      "30/30 [==============================] - 8s 275ms/step - loss: 0.2542 - acc: 0.9039 - val_loss: 0.4945 - val_acc: 0.7850\n",
      "Epoch 3/20\n",
      "30/30 [==============================] - 8s 268ms/step - loss: 0.1796 - acc: 0.9417 - val_loss: 0.4396 - val_acc: 0.8432\n",
      "Epoch 4/20\n",
      "30/30 [==============================] - 8s 266ms/step - loss: 0.1453 - acc: 0.9689 - val_loss: 0.2881 - val_acc: 0.8899\n",
      "Epoch 5/20\n",
      "30/30 [==============================] - 8s 274ms/step - loss: 0.0078 - acc: 0.9988 - val_loss: 0.4276 - val_acc: 0.8884\n",
      "Epoch 6/20\n",
      "30/30 [==============================] - 8s 283ms/step - loss: 4.8125e-04 - acc: 1.0000 - val_loss: 0.5352 - val_acc: 0.8880\n",
      "Epoch 7/20\n",
      "30/30 [==============================] - 8s 274ms/step - loss: 5.7357e-05 - acc: 1.0000 - val_loss: 0.6255 - val_acc: 0.8878\n",
      "Epoch 8/20\n",
      "30/30 [==============================] - 8s 277ms/step - loss: 9.4386e-06 - acc: 1.0000 - val_loss: 0.7081 - val_acc: 0.8879\n",
      "Epoch 9/20\n",
      "30/30 [==============================] - 8s 278ms/step - loss: 2.2614e-06 - acc: 1.0000 - val_loss: 0.7891 - val_acc: 0.8863\n",
      "Epoch 10/20\n",
      "30/30 [==============================] - 8s 277ms/step - loss: 6.4192e-07 - acc: 1.0000 - val_loss: 0.8614 - val_acc: 0.8862\n",
      "Epoch 11/20\n",
      "30/30 [==============================] - 8s 279ms/step - loss: 2.1270e-07 - acc: 1.0000 - val_loss: 0.9212 - val_acc: 0.8879\n",
      "Epoch 12/20\n",
      "30/30 [==============================] - 9s 283ms/step - loss: 8.0342e-08 - acc: 1.0000 - val_loss: 0.9802 - val_acc: 0.8863\n",
      "Epoch 13/20\n",
      "30/30 [==============================] - 9s 303ms/step - loss: 3.6806e-08 - acc: 1.0000 - val_loss: 1.0163 - val_acc: 0.8869\n",
      "Epoch 14/20\n",
      "30/30 [==============================] - 8s 283ms/step - loss: 2.1117e-08 - acc: 1.0000 - val_loss: 1.0433 - val_acc: 0.8868\n",
      "Epoch 15/20\n",
      "30/30 [==============================] - 9s 293ms/step - loss: 1.4459e-08 - acc: 1.0000 - val_loss: 1.0615 - val_acc: 0.8866\n",
      "Epoch 16/20\n",
      "30/30 [==============================] - 9s 289ms/step - loss: 1.0957e-08 - acc: 1.0000 - val_loss: 1.0763 - val_acc: 0.8868\n",
      "Epoch 17/20\n",
      "30/30 [==============================] - 9s 284ms/step - loss: 8.8578e-09 - acc: 1.0000 - val_loss: 1.0872 - val_acc: 0.8866\n",
      "Epoch 18/20\n",
      "30/30 [==============================] - 8s 277ms/step - loss: 7.4422e-09 - acc: 1.0000 - val_loss: 1.0966 - val_acc: 0.8865\n",
      "Epoch 19/20\n",
      "30/30 [==============================] - 9s 284ms/step - loss: 6.4267e-09 - acc: 1.0000 - val_loss: 1.1044 - val_acc: 0.8867\n",
      "Epoch 20/20\n",
      "30/30 [==============================] - 8s 278ms/step - loss: 5.6739e-09 - acc: 1.0000 - val_loss: 1.1111 - val_acc: 0.8867\n"
     ]
    },
    {
     "data": {
      "image/png": "[encoded data removed]",
      "text/plain": [
       "<Figure size 432x288 with 1 Axes>"
      ]
     },
     "metadata": {
      "needs_background": "light"
     },
     "output_type": "display_data"
    }
   ],
   "source": [
    "model = models.Sequential()\n",
    "model.add(layers.Dense(1024, activation=\"relu\", input_shape=(10000, )))\n",
    "model.add(layers.Dense(1024, activation=\"relu\"))\n",
    "model.add(layers.Dense(1, activation='sigmoid'))\n",
    "model.compile(optimizer='rmsprop',\n",
    "             loss='binary_crossentropy',\n",
    "             metrics=['acc']) # 정확도를 지정할 떼 accuracy 또는 acc 모두 사용 가능하다.\n",
    "\n",
    "history = model.fit(partial_x_train,\n",
    "                   partial_y_train,\n",
    "                   epochs=20,\n",
    "                   batch_size=512,\n",
    "                   validation_data=(x_val, y_val))\n",
    "history_dict = history.history\n",
    "loss = history_dict['loss']\n",
    "val_loss = history_dict['val_loss']\n",
    "\n",
    "epochs = range(1, len(loss) + 1)\n",
    "\n",
    "plt.plot(epochs, loss, 'bo', label='Training loss') # 'bo'는 파란색 점을 의미한다.\n",
    "plt.plot(epochs, val_loss, 'b', label='Validation loss') # 'b'는 파란색 실선을 의미한다.\n",
    "plt.title('Training and validation loss')\n",
    "plt.xlabel('Epochs')\n",
    "plt.ylabel('Loss')\n",
    "plt.legend()\n",
    "\n",
    "plt.show()"
   ]
  },
  {
   "cell_type": "markdown",
   "metadata": {},
   "source": [
    "### 검증 손실도 매우 불안정하고 과대적합이 바로 일어나는 것을 볼 수 있다ㅋㅋㅋㅋ"
   ]
  },
  {
   "cell_type": "markdown",
   "metadata": {},
   "source": [
    "# 가중치 규제 추가\n",
    "> **오컴의 면도날** 어떤 것에 대한 두 가지의 설명이 있다면 더 적은 가정이 필요한 간단한 설명이 옳을 것이라는 이론. => **간단한 모델이 복잡한 모델보다 과대적합될 가능성이 적다!!**\n",
    "> #### 여기서 간단한 모델이란 적은 수의 파라미터를 가졌거나 파라미터 값 분포의 엔트로피가 작은 모델이다.\n",
    "> #### 그러므로 네트워크 복잡도에 제한을 두어 가중치가 작은 값을 가지도록 강제하는 것이 바로 가중치 규제이다.\n",
    "> 이를 위해선 네트워크의 손실 함수에 큰 가중치에 연관된 비용을 추가한다.\n",
    "* ### L1규제\n",
    "> 가중치의 절댓값에 비례하는 비용이 추가된다(가중치의 L1노름(norm)).\n",
    "* ### L2규제\n",
    "> 가중치의 제곱에 비례하는 비용이 추가된다. 신경망에서 가중치 감쇠라고도 부른다.\n",
    "> #### 가중치의 파라미터를 모두 제곱하여 더한 후 이 값의 제곱근을 구하는 것이 L2노름.\n",
    "------------------------\n",
    "### 모델에 L2 가중치 추가하기"
   ]
  },
  {
   "cell_type": "code",
   "execution_count": 19,
   "metadata": {},
   "outputs": [],
   "source": [
    "from keras import regularizers\n",
    "\n",
    "model = models.Sequential()\n",
    "model.add(layers.Dense(16, kernel_regularizer=regularizers.l2(0.001), activation='relu', input_shape=(10000,)))\n",
    "model.add(layers.Dense(16, kernel_regularizer=regularizers.l2(0.001), activation='relu'))\n",
    "model.add(layers.Dense(1, activation='sigmoid'))"
   ]
  },
  {
   "cell_type": "markdown",
   "metadata": {},
   "source": [
    "> l2(0.001)는 가중치 행렬의 모든 원소를 제곱하고 0.001을 곱하여 네트워크의 전체 손실에 더해진다는 의미이다. 이 규제는 훈련할 때만 추가된다.\n",
    "### 케라스에서 사용할 수 있는 가중치 규제"
   ]
  },
  {
   "cell_type": "code",
   "execution_count": 20,
   "metadata": {},
   "outputs": [
    {
     "data": {
      "text/plain": [
       "<tensorflow.python.keras.regularizers.L1L2 at 0x2179fdecfd0>"
      ]
     },
     "execution_count": 20,
     "metadata": {},
     "output_type": "execute_result"
    }
   ],
   "source": [
    "from keras import regularizers\n",
    "\n",
    "regularizers.l1(0.001) # L1규제\n",
    "\n",
    "regularizers.l1_l2(l1=0.001, l2=0.001) # L1과 L2규제 병행\n",
    "\n",
    "# 이 함수의 매개변수 기본값은 모두 0.01이다."
   ]
  },
  {
   "cell_type": "markdown",
   "metadata": {},
   "source": [
    "# 드롭아웃 추가\n",
    "> **드롭아웃(dropout)**은 토론토 대학의 학생들이 개발했다고 한다. 신경망을 위해 사용되는 방법중 가장 효과적이고 널리 사용되는 방법이라고 한다.\n",
    "> #### 네트워크 층에 드롭아웃을 적용하면 훈련하는 동안 무작위로 층의 일부 출력 특성을 제외(0으로)만든다.\n",
    "\n",
    "### EX)"
   ]
  },
  {
   "cell_type": "code",
   "execution_count": null,
   "metadata": {},
   "outputs": [],
   "source": [
    "layer_output *= np.random.randint(0, high=2, size=layer_output) # 훈련단계\n",
    "layer_output /= 0.4"
   ]
  },
  {
   "cell_type": "markdown",
   "metadata": {},
   "source": [
    "## 아니 근데 이게 왜 과대적합을 줄이는데 도움이 됨?"
   ]
  },
  {
   "cell_type": "markdown",
   "metadata": {},
   "source": [
    "> 홀리찟~ 힌튼은 은행에서 사용하는 부정 방지 메커니즘에서 착안했다고 하는데, 은행에서 부정행위를 하려면 직원들 사이의 유대가 필요하기 때문에 은행원을 자주 바꾼다고 한다. 그걸 신경망에 적용해서 뉴런의 일부를 무작위로 제거해 과대적합을 감소시키는 것이다."
   ]
  },
  {
   "cell_type": "code",
   "execution_count": 21,
   "metadata": {},
   "outputs": [],
   "source": [
    "model.add(layers.Dropout(0.5)) # 이게 바로 드롭아웃!!!"
   ]
  },
  {
   "cell_type": "code",
   "execution_count": 22,
   "metadata": {},
   "outputs": [],
   "source": [
    "model = models.Sequential()\n",
    "model.add(layers.Dense(16, activation=\"relu\", input_shape=(10000, )))\n",
    "model.add(layers.Dropout(0.5))\n",
    "model.add(layers.Dense(16, activation=\"relu\"))\n",
    "model.add(layers.Dropout(0.5))\n",
    "model.add(layers.Dense(1, activation='sigmoid'))"
   ]
  },
  {
   "cell_type": "markdown",
   "metadata": {},
   "source": [
    "# 과대적합 방지 방법!!\n",
    "* 1. 훈련데이터 더 모으기.\n",
    "* 2. 네트워크의 용량 감소시키기.\n",
    "* 3. 가중치 규제를 추가한다.\n",
    "* 4. 드롭아웃을 추가한다."
   ]
  }
 ],
 "metadata": {
  "kernelspec": {
   "display_name": "Python 3",
   "language": "python",
   "name": "python3"
  },
  "language_info": {
   "codemirror_mode": {
    "name": "ipython",
    "version": 3
   },
   "file_extension": ".py",
   "mimetype": "text/x-python",
   "name": "python",
   "nbconvert_exporter": "python",
   "pygments_lexer": "ipython3",
   "version": "3.8.5"
  }
 },
 "nbformat": 4,
 "nbformat_minor": 4
}
